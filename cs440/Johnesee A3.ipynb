{
 "cells": [
  {
   "cell_type": "markdown",
   "metadata": {},
   "source": [
    "# A3: A\\*, IDS, and Effective Branching Factor"
   ]
  },
  {
   "cell_type": "markdown",
   "metadata": {},
   "source": [
    "This notebook implements the Recursive Best-First Search implementation of the A* algorithm as well as the Iterative Deepening Search for comparing the effectiveness of each.  As a way to measure effectiveness, the code also includes a method that estimate of the effective branching factor for a search algorithm when applied to a search problem. Each algorithm will attempt to solve several eight-tile sliding puzzles.\n",
    "\n",
    "Primary functions used for general searching:\n",
    "\n",
    "   - `aStarSearch(startState, actionsF, takeActionF, goalTestF, hF)`\n",
    "   - `iterativeDeepeningSearch(startState, goalState, actionsF, takeActionF, maxDepth)`\n",
    "   - `ebf(nNodes, depth, precision=0.01)`\n",
    "\n",
    "Secondary functions used for 8 puzzle searching:\n",
    "\n",
    "  * `actionsF_8p(state)`\n",
    "  * `takeActionF_8p(state, action)`\n",
    "  * `goalTestF_8p(state, goal)`\n",
    "  \n",
    "Tertiary function used to print results in a table\n",
    "\n",
    "   - runExperiment(goalState1, goalState2, goalState3, [h1, h2, h3, ...])"
   ]
  },
  {
   "cell_type": "markdown",
   "metadata": {},
   "source": [
    "## Heuristic Functions\n",
    "\n",
    "The Recursive Iterative Deepening form of the A* algorithm was taken from the lecture notes on Informed Search. It will use the following heuristic functions to estimate the best, most informed move.\n",
    "\n",
    "  * `h1_8p(state, goal)`: $h(state, goal) = 0$, for all states $state$ and all goal states $goal$,\n",
    "  * `h2_8p(state, goal)`: $h(state, goal) = m$, where $m$ is the Manhattan distance that the blank is from its goal position,\n",
    "  * `h3_8p(state, goal)`: $h(state, goal) = m$, where $m$ is the Manhattan distance of all points from their goal position,\n",
    "  * `h4_8p(state, goal)`: $h(state, goal) = m$, where $m$ is the total of tiles not in their goal position\n",
    "  * `h5_8p(state, goal)`: $h(state, goal) = m$, where $m$ is the total of tiles not in their final goal column or row"
   ]
  },
  {
   "cell_type": "markdown",
   "metadata": {},
   "source": [
    "## Comparison"
   ]
  },
  {
   "cell_type": "markdown",
   "metadata": {},
   "source": [
    "Each function will be run with the following start state\n",
    "\n",
    "$$\n",
    "\\begin{array}{ccc}\n",
    "1 & 2 & 3\\\\\n",
    "4 & 0 & 5\\\\\n",
    "6 & 7 & 8\n",
    "\\end{array}\n",
    "$$\n",
    "\n",
    "and these three goal states.\n",
    "\n",
    "$$\n",
    "\\begin{array}{ccccccccccc}\n",
    "1 & 2 & 3  & ~~~~ & 1 & 2 & 3  &  ~~~~ & 1 & 0 &  3\\\\\n",
    "4 & 0 & 5  & & 4 & 5 & 8  & & 4 & 5 & 8\\\\\n",
    "6 & 7 & 8 &  & 6 & 0 & 7  & & 2 & 6 & 7\n",
    "\\end{array}\n",
    "$$"
   ]
  },
  {
   "cell_type": "markdown",
   "metadata": {},
   "source": [
    "The format and expected values are below.  Final results will include several more heuristic funtcions\n",
    "\n",
    "\n",
    "           [1, 2, 3, 4, 0, 5, 6, 7, 8]    [1, 2, 3, 4, 5, 8, 6, 0, 7]    [1, 0, 3, 4, 5, 8, 2, 6, 7] \n",
    "    Algorithm    Depth  Nodes  EBF              Depth  Nodes  EBF              Depth  Nodes  EBF          \n",
    "         IDS       0      0  0.000                3     43  3.086               11 225850  2.954         \n",
    "        A*h1       0      0  0.000                3    116  4.488               11 643246  3.263         \n",
    "        A*h2       0      0  0.000                3     51  3.297               11 100046  2.733         "
   ]
  },
  {
   "cell_type": "markdown",
   "metadata": {},
   "source": [
    "Below is the main code block for the notebook"
   ]
  },
  {
   "cell_type": "code",
   "execution_count": null,
   "metadata": {
    "collapsed": true
   },
   "outputs": [],
   "source": [
    "import copy\n",
    "import pandas as pd\n",
    "from collections import defaultdict\n",
    "#  Recursive Iterative Deepening form of A* taken from Informed Search\n",
    "\n",
    "NODES = 0\n",
    "\n",
    "\n",
    "class Node:\n",
    "    def __init__(self, state, f=0, g=0, h=0):\n",
    "        self.state = state\n",
    "        self.f = f\n",
    "        self.g = g\n",
    "        self.h = h\n",
    "\n",
    "    def __repr__(self):\n",
    "        return \"Node(\" + repr(self.state) + \", f=\" + repr(self.f) + \\\n",
    "               \", g=\" + repr(self.g) + \", h=\" + repr(self.h) + \")\"\n",
    "\n",
    "# REQUIRED\n",
    "def aStarSearch(startState, actionsF, takeActionF, goalTestF, hF):\n",
    "    global NODES\n",
    "    NODES = 0\n",
    "    h = hF(startState)\n",
    "    startNode = Node(state=startState, f=0 + h, g=0, h=h)\n",
    "    return aStarSearchHelper(startNode, actionsF, takeActionF, goalTestF, hF, float('inf'))\n",
    "\n",
    "\n",
    "def aStarSearchHelper(parentNode, actionsF, takeActionF, goalTestF, hF, fmax):\n",
    "    if goalTestF(parentNode.state):\n",
    "        return [parentNode.state], parentNode.g\n",
    "    # Construct list of children nodes with f, g, and h values\n",
    "    actions = actionsF(parentNode.state)\n",
    "    if not actions:\n",
    "        return \"failure\", float('inf')\n",
    "    children = []\n",
    "    for action in actions:\n",
    "        (childState, stepCost) = takeActionF(parentNode.state, action)\n",
    "        h = hF(childState)\n",
    "        g = parentNode.g + stepCost\n",
    "        f = max(h+g, parentNode.f)\n",
    "        childNode = Node(state=childState, f=f, g=g, h=h)\n",
    "        children.append(childNode)\n",
    "    while True:\n",
    "        # find best child\n",
    "        children.sort(key = lambda n: n.f) # sort by f value\n",
    "        bestChild = children[0]\n",
    "        if bestChild.f > fmax:\n",
    "            return \"failure\", bestChild.f\n",
    "        # next lowest f value\n",
    "        alternativef = children[1].f if len(children) > 1 else float('inf')\n",
    "        # expand best child, reassign its f value to be returned value\n",
    "        result, bestChild.f = aStarSearchHelper(bestChild, actionsF, takeActionF, goalTestF, hF, min(fmax, alternativef))\n",
    "        if result is not \"failure\":\n",
    "            result.insert(0, parentNode.state)\n",
    "            return result, bestChild.f\n",
    "\n",
    "\n",
    "# REQUIRED\n",
    "def iterativeDeepeningSearch(startState, goalState, actionsF, takeActionF, maxDepth):\n",
    "    global NODES\n",
    "    NODES = 0\n",
    "    for depth in range(maxDepth):\n",
    "        result = depthLimitedSearch(startState, goalState, actionsF, takeActionF, depth)\n",
    "        # Failure to find goal\n",
    "        if result == 'failure':\n",
    "            return 'failure'\n",
    "        # Solution as list of States\n",
    "        if result != 'cutoff':\n",
    "            result.insert(0, startState)\n",
    "            return result\n",
    "    # Cutoff\n",
    "    return 'cutoff'\n",
    "\n",
    "\n",
    "def depthLimitedSearch(startState, goalState, actionsF, takeActionF, depthLimit):\n",
    "    if startState == goalState:\n",
    "        return []\n",
    "    if depthLimit == 0:\n",
    "        return 'cutoff'\n",
    "    cutoffOccurred = False\n",
    "    for action in actionsF(startState):\n",
    "        state = startState\n",
    "        childState, temp = takeActionF(state, action)\n",
    "        result = depthLimitedSearch(childState, goalState, actionsF, takeActionF, depthLimit-1)\n",
    "        if result == 'cutoff':\n",
    "            cutoffOccurred = True\n",
    "        # Solution as list of States\n",
    "        elif result != 'failure':\n",
    "            result.insert(0, childState)\n",
    "            return result\n",
    "    # Cutoff\n",
    "    if cutoffOccurred:\n",
    "        return 'cutoff'\n",
    "    # Failure to find goal\n",
    "    else:\n",
    "        return 'failure'\n",
    "\n",
    "\n",
    "# Required: Returns estimate based on the number of nodes and the depth\n",
    "def ebf(nNodes, depth, precision=0.01):\n",
    "    \n",
    "    if nNodes == 0:\n",
    "        return float(0)\n",
    "    elif depth == 0:\n",
    "        return float(1)\n",
    "    elif nNodes == 1 and depth == 1:\n",
    "        return 2\n",
    "    else:\n",
    "        return recursiveBinary(nNodes, depth, precision, 0, depth**2)\n",
    "\n",
    "\n",
    "def recursiveBinary(nNodes, depth, precision, lo, hi):\n",
    "    mid = (hi + lo) / 2\n",
    "    \n",
    "    if mid == 1:\n",
    "        estimate = 1 + mid + mid**2\n",
    "    else:\n",
    "        estimate = (1-mid**(depth+1))/(1-mid)\n",
    "\n",
    "    if (nNodes - precision) <= estimate <= (nNodes + precision):\n",
    "        return mid\n",
    "    elif estimate > nNodes:\n",
    "        return recursiveBinary(nNodes, depth, precision, lo, mid)\n",
    "    elif estimate < nNodes:\n",
    "        return recursiveBinary(nNodes, depth, precision, mid, hi)\n",
    "    else:\n",
    "        return -1\n",
    "\n",
    "\n",
    "def goalTestF_8p(state, goal):\n",
    "    return state == goal\n",
    "\n",
    "\n",
    "# Required: Return a list of up to four valid actions that can be applied in state. Order is left, right, up, down\n",
    "def actionsF_8p(currentState):\n",
    "    x, y = findBlank_8p(currentState)\n",
    "    moves = []\n",
    "    if x != 0:\n",
    "        moves.append(('left', 1))\n",
    "    if x != 2:\n",
    "        moves.append(('right', 1))\n",
    "    if y != 0:\n",
    "        moves.append(('up', 1))\n",
    "    if y != 2:\n",
    "        moves.append(('down', 1))\n",
    "    return moves\n",
    "\n",
    "\n",
    "# REquired: Return the state that results from applying action in state.\n",
    "def takeActionF_8p(currentState, command):\n",
    "    global NODES\n",
    "    NODES += 1\n",
    "    \n",
    "    index = currentState.index(0)\n",
    "    actions = actionsF_8p(currentState)\n",
    "    nextState = currentState.copy()\n",
    "    direction, step = command\n",
    "    actionsDict = dict(actions)\n",
    "\n",
    "    if direction == 'left':\n",
    "        nextState[index - 1], nextState[index] = nextState[index], nextState[index - 1]\n",
    "    elif direction == 'right':\n",
    "        nextState[index + 1], nextState[index] = nextState[index], nextState[index + 1]\n",
    "    elif direction == 'up':\n",
    "        nextState[index - 3], nextState[index] = nextState[index], nextState[index - 3]\n",
    "    elif direction == 'down':\n",
    "        nextState[index + 3], nextState[index] = nextState[index], nextState[index + 3]\n",
    "    else:\n",
    "        print('Error: Illegal Move')\n",
    "    \n",
    "    return nextState, step\n",
    "\n",
    "\n",
    "# Return the row and column index for the location of all numbers as a dict\n",
    "def findNumbers_8p(currentState):\n",
    "    positions = {}\n",
    "    for key in currentState:\n",
    "        positions[key] = coordinate(currentState.index(key), 3)\n",
    "    return positions\n",
    "\n",
    "\n",
    "# Return the row and column index for the location of the blank\n",
    "def findBlank_8p(currentState):\n",
    "    index = currentState.index(0)\n",
    "    return coordinate(index, 3)\n",
    "\n",
    "\n",
    "def coordinate(index, width):\n",
    "    x = index % width\n",
    "    y = index // width\n",
    "    return x, y\n",
    "\n",
    "\n",
    "def manhattanDistance(point1, point2):\n",
    "    x1, y1 = point1\n",
    "    x2, y2 = point2\n",
    "    return abs(x2 - x1) + abs(y2 - y1)\n",
    "    # return sum(abs(e - s) for s,e in zip(start, end))\n",
    "\n",
    "\n",
    "# Heuristic equal to zero\n",
    "def h1_8p(state, goal):\n",
    "    return 0;\n",
    "\n",
    "\n",
    "# Manhattan distance of blank\n",
    "def h2_8p(state, goal):\n",
    "    return manhattanDistance(findBlank_8p(state), findBlank_8p(goal))\n",
    "\n",
    "\n",
    "# Manhattan distance of all points\n",
    "def h3_8p(state, goal):\n",
    "    distance = 0\n",
    "    stateDict = findNumbers_8p(state)\n",
    "    # print(stateDict)\n",
    "    goalDict = findNumbers_8p(goal)\n",
    "    for key in stateDict:\n",
    "        distance += manhattanDistance(stateDict[key], goalDict[key])\n",
    "    return distance\n",
    "\n",
    "\n",
    "# Displaced tile count\n",
    "def h4_8p(state, goal):\n",
    "    count = 0\n",
    "    for index in state:\n",
    "        if state[index] != goal[index]:\n",
    "            count += 1\n",
    "    return count\n",
    "\n",
    "\n",
    "# Displaced tile in row or column count\n",
    "def h5_8p(state, goal):\n",
    "    count = 0\n",
    "    for index in state:\n",
    "        if state[index] != goal[index]:\n",
    "            x1, y1 = coordinate(state[index], 3)\n",
    "            x2, y2 = coordinate(goal.index(state[index]), 3)\n",
    "            if x1 != y1:\n",
    "                count += 1\n",
    "            elif x2 != y2:\n",
    "                count += 1\n",
    "    return count\n",
    "\n",
    "\n",
    "def runExperiment(goalState1, goalState2, goalState3, functions):\n",
    "\n",
    "    columns = ('Algorithm', 'Depth', 'Nodes', 'EBF', 'Depth', 'Nodes', 'EBF', 'Depth', 'Nodes', 'EBF')\n",
    "    raw_data = defaultdict(list)\n",
    "\n",
    "    print(' {} {} {}'.format(goalState1, goalState2, goalState3))\n",
    "    state = [goalState1, goalState2, goalState3]\n",
    "    start = [1, 2, 3, 4, 0, 5, 6, 7, 8]\n",
    "    i = 0\n",
    "    raw_data[i].append('IDS')\n",
    "    for goal in state:\n",
    "        ids = iterativeDeepeningSearch(start, goal, actionsF_8p, takeActionF_8p, 100)\n",
    "        depth = len(ids) - 1\n",
    "        raw_data[i].extend([depth, NODES, format(ebf(NODES, depth), '.2f')])\n",
    "\n",
    "    for heuristic in functions:\n",
    "        i += 1\n",
    "        raw_data[i].append('A*h{}'.format(i))\n",
    "        for goal in state:\n",
    "            pathList, depth = aStarSearch(start, actionsF_8p, takeActionF_8p, lambda state: goalTestF_8p(state, goal), lambda state: heuristic(state, goal))\n",
    "            raw_data[i].extend([depth, NODES, format(ebf(NODES, depth), '.2f')])\n",
    "\n",
    "    df = pd.DataFrame.from_dict(raw_data, 'index')\n",
    "    df.columns = columns\n",
    "    print(df.to_string(index=False))"
   ]
  },
  {
   "cell_type": "markdown",
   "metadata": {},
   "source": [
    "Main method to execute code above and display results"
   ]
  },
  {
   "cell_type": "code",
   "execution_count": null,
   "metadata": {
    "collapsed": true
   },
   "outputs": [],
   "source": [
    "    goalState1 = [1, 2, 3, 4, 0, 5, 6, 7, 8]\n",
    "    goalState2 = [1, 2, 3, 4, 5, 8, 6, 0, 7]\n",
    "    goalState3 = [1, 0, 3, 4, 5, 8, 2, 6, 7]\n",
    "    hfs = [h1_8p, h2_8p, h3_8p, h4_8p, h5_8p]\n",
    "    runExperiment(goalState1, goalState2, goalState3, hfs)"
   ]
  },
  {
   "cell_type": "markdown",
   "metadata": {},
   "source": [
    "Example output for the effective branching function. Parameter are nodes and depth"
   ]
  },
  {
   "cell_type": "code",
   "execution_count": null,
   "metadata": {
    "collapsed": true
   },
   "outputs": [],
   "source": [
    "ebf(10, 3)"
   ]
  },
  {
   "cell_type": "code",
   "execution_count": null,
   "metadata": {
    "collapsed": true
   },
   "outputs": [],
   "source": [
    "ebf(1, 0)"
   ]
  },
  {
   "cell_type": "code",
   "execution_count": null,
   "metadata": {
    "collapsed": true
   },
   "outputs": [],
   "source": [
    "ebf(2, 1)"
   ]
  },
  {
   "cell_type": "code",
   "execution_count": null,
   "metadata": {
    "collapsed": true
   },
   "outputs": [],
   "source": [
    "ebf(2, 1, precision=0.000001)"
   ]
  },
  {
   "cell_type": "code",
   "execution_count": null,
   "metadata": {
    "collapsed": true
   },
   "outputs": [],
   "source": [
    "ebf(200000, 5)"
   ]
  },
  {
   "cell_type": "code",
   "execution_count": null,
   "metadata": {
    "collapsed": true
   },
   "outputs": [],
   "source": [
    "ebf(200000, 50)"
   ]
  },
  {
   "cell_type": "markdown",
   "metadata": {},
   "source": [
    "Simple test showing an Iterative Deepening Search through a tree and the output of the various functions."
   ]
  },
  {
   "cell_type": "code",
   "execution_count": null,
   "metadata": {
    "collapsed": true
   },
   "outputs": [],
   "source": [
    "def actionsF_simple(state):\n",
    "    succs = {'a': ['b', 'c'], 'b':['a'], 'c':['h'], 'h':['i'], 'i':['j', 'k', 'l'], 'k':['z']}\n",
    "    return [(s, 1) for s in succs.get(state, [])]\n",
    "\n",
    "def takeActionF_simple(state, action):\n",
    "    return action\n",
    "\n",
    "def goalTestF_simple(state, goal):\n",
    "    return state == goal\n",
    "\n",
    "def h_simple(state, goal):\n",
    "    return 1"
   ]
  },
  {
   "cell_type": "code",
   "execution_count": null,
   "metadata": {
    "collapsed": true
   },
   "outputs": [],
   "source": [
    "actions = actionsF_simple('a')\n",
    "actions"
   ]
  },
  {
   "cell_type": "code",
   "execution_count": null,
   "metadata": {
    "collapsed": true
   },
   "outputs": [],
   "source": [
    "takeActionF_simple('a', actions[0])"
   ]
  },
  {
   "cell_type": "code",
   "execution_count": null,
   "metadata": {
    "collapsed": true
   },
   "outputs": [],
   "source": [
    "goalTestF_simple('a', 'a')"
   ]
  },
  {
   "cell_type": "code",
   "execution_count": null,
   "metadata": {
    "collapsed": true
   },
   "outputs": [],
   "source": [
    "h_simple('a', 'z')"
   ]
  },
  {
   "cell_type": "code",
   "execution_count": null,
   "metadata": {
    "collapsed": true
   },
   "outputs": [],
   "source": [
    "iterativeDeepeningSearch('a', 'z', actionsF_simple, takeActionF_simple, 10)"
   ]
  },
  {
   "cell_type": "code",
   "execution_count": null,
   "metadata": {
    "collapsed": true
   },
   "outputs": [],
   "source": [
    "aStarSearch('a',actionsF_simple, takeActionF_simple,\n",
    "            lambda s: goalTestF_simple(s, 'z'),\n",
    "            lambda s: h_simple(s, 'z'))"
   ]
  },
  {
   "cell_type": "markdown",
   "metadata": {},
   "source": [
    "Code and Execution of the Autograder"
   ]
  },
  {
   "cell_type": "code",
   "execution_count": null,
   "metadata": {
    "collapsed": true
   },
   "outputs": [],
   "source": [
    "def grader():\n",
    "    g = 0;\n",
    "    print('\\nTesting actionsF_8p([1, 2, 3, 4, 5, 6, 7, 0, 8])')\n",
    "    acts = actionsF_8p([1, 2, 3, 4, 5, 6, 7, 0, 8])\n",
    "    correct = [('left', 1), ('right', 1), ('up', 1)]\n",
    "    if acts == correct:\n",
    "        g += 5\n",
    "        print('\\n--- 5/5 points. Your actionsF_8p correctly returned', acts)\n",
    "    else:\n",
    "        print('\\n--- 0/5 points. Your actionsF_8p should have returned', correct, 'but you returned', acts)\n",
    "\n",
    "    print('\\nTesting takeActionF_8p([1, 2, 3, 4, 5, 6, 7, 0, 8], (''up'', 1))')\n",
    "    s = takeActionF_8p([1, 2, 3, 4, 5, 6, 7, 0, 8], ('up', 1))\n",
    "    correct = ([1, 2, 3, 4, 0, 6, 7, 5, 8], 1)\n",
    "    if s == correct:\n",
    "        g += 5\n",
    "        print('\\n--- 5/5 points. Your takeActionsF_8p correctly returned', s)\n",
    "    else:\n",
    "        print('\\n--- 0/5 points. Your takeActionsF_8p should have returned', correct, 'but you returned', s)\n",
    "\n",
    "    print('\\nTesting goalTestF_8p([1, 2, 3, 4, 5, 6, 7, 0, 8], [1, 2, 3, 4, 5, 6, 7, 0, 8])')\n",
    "    if goalTestF_8p([1, 2, 3, 4, 5, 6, 7, 0, 8], [1, 2, 3, 4, 5, 6, 7, 0, 8]):\n",
    "        g += 5\n",
    "        print('\\n--- 5/5 points. Your goalTestF_8p correctly True')\n",
    "    else:\n",
    "        print('\\n--- 0/5 points. Your goalTestF_8p did not return True')\n",
    "\n",
    "    print('\\nTesting aStarSearch([1, 2, 3, 4, 5, 6, 7, 0, 8],')\n",
    "    print('                     actionsF_8p, takeActionF_8p,')\n",
    "    print('                     lambda s: goalTestF_8p(s, [0, 2, 3, 1, 4,  6, 7, 5, 8]),')\n",
    "    print('                     lambda s: h1_8p(s, [0, 2, 3, 1, 4,  6, 7, 5, 8]))')\n",
    "\n",
    "    path = aStarSearch([1, 2, 3, 4, 5, 6, 7, 0, 8], actionsF_8p, takeActionF_8p,\n",
    "                       lambda s: goalTestF_8p(s, [0, 2, 3, 1, 4, 6, 7, 5, 8]),\n",
    "                       lambda s: h1_8p(s, [0, 2, 3, 1, 4, 6, 7, 5, 8]))\n",
    "\n",
    "    correct = ([[1, 2, 3, 4, 5, 6, 7, 0, 8], [1, 2, 3, 4, 0, 6, 7, 5, 8], [1, 2, 3, 0, 4, 6, 7, 5, 8],\n",
    "                [0, 2, 3, 1, 4, 6, 7, 5, 8]], 3)\n",
    "    if path == correct:\n",
    "        g += 20\n",
    "        print('\\n--- 20/20 points. Your search correctly returned', path)\n",
    "    else:\n",
    "        print('\\n---  0/20 points. Your search should have returned', correct, 'but you returned', path)\n",
    "\n",
    "    print('\\nTesting iterativeDeepeningSearch([5, 2, 8, 0, 1, 4, 3, 7, 6], ')\n",
    "    print('                                 [0, 2, 3, 1, 4,  6, 7, 5, 8],')\n",
    "    print('                                 actionsF_8p, takeActionF_8p, 10)')\n",
    "    path = iterativeDeepeningSearch([5, 2, 8, 0, 1, 4, 3, 7, 6], [0, 2, 3, 1, 4, 6, 7, 5, 8], actionsF_8p, takeActionF_8p, 10)\n",
    "    if type(path) == str and path.lower() == 'cutoff':\n",
    "        g += 15\n",
    "        print('\\n--- 15/15 points. Your search correctly returned', path)\n",
    "    else:\n",
    "        print('\\n---  0/15 points. Your search should have returned ''cutoff'', but you returned', path)\n",
    "\n",
    "    print('\\nTotal is {}/50'.format(g))"
   ]
  },
  {
   "cell_type": "code",
   "execution_count": null,
   "metadata": {
    "collapsed": true
   },
   "outputs": [],
   "source": [
    "grader()"
   ]
  }
 ],
 "metadata": {
  "anaconda-cloud": {},
  "kernelspec": {
   "display_name": "Python 3",
   "language": "python",
   "name": "python3"
  },
  "language_info": {
   "codemirror_mode": {
    "name": "ipython",
    "version": 3
   },
   "file_extension": ".py",
   "mimetype": "text/x-python",
   "name": "python",
   "nbconvert_exporter": "python",
   "pygments_lexer": "ipython3",
   "version": "3.6.1"
  }
 },
 "nbformat": 4,
 "nbformat_minor": 1
}
