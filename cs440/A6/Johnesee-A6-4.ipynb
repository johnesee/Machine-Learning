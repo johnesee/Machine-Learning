{
 "cells": [
  {
   "cell_type": "markdown",
   "metadata": {},
   "source": [
    "$\\newcommand{\\xv}{\\mathbf{x}}\n",
    "\\newcommand{\\Xv}{\\mathbf{X}}\n",
    "\\newcommand{\\yv}{\\mathbf{y}}\n",
    "\\newcommand{\\zv}{\\mathbf{z}}\n",
    "\\newcommand{\\av}{\\mathbf{a}}\n",
    "\\newcommand{\\Wv}{\\mathbf{W}}\n",
    "\\newcommand{\\wv}{\\mathbf{w}}\n",
    "\\newcommand{\\tv}{\\mathbf{t}}\n",
    "\\newcommand{\\Tv}{\\mathbf{T}}\n",
    "\\newcommand{\\muv}{\\boldsymbol{\\mu}}\n",
    "\\newcommand{\\sigmav}{\\boldsymbol{\\sigma}}\n",
    "\\newcommand{\\phiv}{\\boldsymbol{\\phi}}\n",
    "\\newcommand{\\Phiv}{\\boldsymbol{\\Phi}}\n",
    "\\newcommand{\\Sigmav}{\\boldsymbol{\\Sigma}}\n",
    "\\newcommand{\\Lambdav}{\\boldsymbol{\\Lambda}}\n",
    "\\newcommand{\\half}{\\frac{1}{2}}\n",
    "\\newcommand{\\argmax}[1]{\\underset{#1}{\\operatorname{argmax}}}\n",
    "\\newcommand{\\argmin}[1]{\\underset{#1}{\\operatorname{argmin}}}$"
   ]
  },
  {
   "cell_type": "code",
   "execution_count": null,
   "metadata": {
    "collapsed": true
   },
   "outputs": [],
   "source": []
  },
  {
   "cell_type": "code",
   "execution_count": null,
   "metadata": {
    "collapsed": true
   },
   "outputs": [],
   "source": []
  },
  {
   "cell_type": "markdown",
   "metadata": {},
   "source": [
    "# Assignment 6: Neural Networks"
   ]
  },
  {
   "cell_type": "markdown",
   "metadata": {},
   "source": [
    "Michael Johnesee"
   ]
  },
  {
   "cell_type": "markdown",
   "metadata": {},
   "source": [
    "## Overview"
   ]
  },
  {
   "cell_type": "markdown",
   "metadata": {},
   "source": [
    "This notebook is designed to train neural networks using various configurations of hidden layers and units in each hidden layer.  The training will be used to compare results to choose the best hidden layer pattern.  This will be done for a regression network and a classification network."
   ]
  },
  {
   "cell_type": "markdown",
   "metadata": {},
   "source": [
    "## Required Code"
   ]
  },
  {
   "cell_type": "markdown",
   "metadata": {},
   "source": [
    "The following python files are utilized by this network and will be required to be downloaded in the same folder.\n",
    "\n",
    "Download [nn2.tar](http://www.cs.colostate.edu/~anderson/cs440/notebooks/nn2.tar) \n",
    "\n",
    "Files are provided by Chuck Anderson for the purpose of this assignment\n",
    "\n",
    "* `neuralnetworks.py`\n",
    "* `scaledconjugategradient.py`\n",
    "* `mlutils.py`"
   ]
  },
  {
   "cell_type": "markdown",
   "metadata": {},
   "source": [
    "## Required functions\n",
    "\n",
    "`trainNNs(X, T, trainFraction, hiddenLayerStructures, numberRepetitions, numberIterations, classify)`\n",
    "\n",
    "The arguments to `trainNNs` are\n",
    "\n",
    "* `X` is a matrix of input data of shape `nSamples x nFeatures`\n",
    "* `T` is a matrix of target data of shape `nSamples x nOutputs`\n",
    "* `trainFraction` is fraction of samples to use as training data. 1-`trainFraction` is number of samples for testing data\n",
    "* `hiddenLayerStructures` is list of network architectures. For example, to test two networks, one with one hidden layer of 20 units, and one with 3 hidden layers with 5, 10, and 20 units in each layer, this argument would be `[[20], [5, 10, 20]]`.\n",
    "* `numberRepetitions` is number of times to train a neural network.  Calculate training and testing average performance (two separate averages) of this many training runs.\n",
    "* `numberIterations` is the number of iterations to run the scaled conjugate gradient algorithm when a neural network is trained.\n",
    "* `classify` is set to `True` if you are doing a classification problem, in which case `T` must be a single column of target class integers.\n",
    "\n",
    "This function returns `results` which is list with one element for each network structure tested.  Each element is a list containing \n",
    "\n",
    "* the hidden layer structure (as a list)\n",
    "* a list of training data performance for each repetition\n",
    "* a list of testing data performance for each repetition\n",
    "* the number of seconds it took to run this many repetitions for this network structure."
   ]
  },
  {
   "cell_type": "code",
   "execution_count": null,
   "metadata": {
    "collapsed": true
   },
   "outputs": [],
   "source": []
  },
  {
   "cell_type": "code",
   "execution_count": null,
   "metadata": {
    "collapsed": true
   },
   "outputs": [],
   "source": []
  },
  {
   "cell_type": "markdown",
   "metadata": {},
   "source": [
    "`summarize(results)`\n",
    "\n",
    "This function returns `summary`, which modifies `results` but with the list of training performances and the list of testing performances each replaced by their mean. \n",
    "\n",
    "* the hidden layer structure (as a list)\n",
    "* the mean of the training data performance\n",
    "* the mean of the testing data performance\n",
    "* the number of seconds it took to run this many repetitions for this network structure.\n",
    "\n",
    "`bestNetwork(summary)`\n",
    "\n",
    "This function returns the best element of `summary`, which is the element that has the smallest test performance.\n",
    "\n",
    "* the hidden layer structure (as a list)\n",
    "* the mean of the training data performance\n",
    "* the mean of the testing data performance for\n",
    "* the number of seconds it took to run this many repetitions for this network structure.\n",
    "\n"
   ]
  },
  {
   "cell_type": "markdown",
   "metadata": {},
   "source": [
    "### Import Statements"
   ]
  },
  {
   "cell_type": "code",
   "execution_count": null,
   "metadata": {
    "collapsed": true
   },
   "outputs": [],
   "source": [
    "import mlutils as ml\n",
    "import numpy as np\n",
    "import scaledconjugategradient as scg\n",
    "import neuralnetworks as nn\n",
    "from copy import copy\n",
    "import copy\n",
    "import pandas as pd\n",
    "import time\n",
    "import matplotlib.pyplot as plt\n",
    "%matplotlib inline"
   ]
  },
  {
   "cell_type": "markdown",
   "metadata": {},
   "source": [
    "### Required Function Code"
   ]
  },
  {
   "cell_type": "code",
   "execution_count": null,
   "metadata": {
    "collapsed": true
   },
   "outputs": [],
   "source": [
    "def trainNNs(X, T, trainFraction, hiddenLayerStructures, numberRepetitions, numberIterations, classify=False):\n",
    "    results = []\n",
    "\n",
    "    for hidden in hiddenLayerStructures:\n",
    "        start_time = time.time()\n",
    "        train_data = []\n",
    "        test_data = []\n",
    "        for i in range(numberRepetitions):\n",
    "            \n",
    "            x_train, t_train, x_test, t_test = ml.partition(X, T, (trainFraction, 1 - trainFraction), classify)\n",
    "                       \n",
    "            if classify is True:\n",
    "                nnet = nn.NeuralNetworkClassifier(X.shape[1], hidden, len(np.unique(T)))\n",
    "                nnet.train(x_train, t_train, nIterations=numberIterations)\n",
    "                y_train, z_train, _ = nnet.use(x_train, allOutputs=True)\n",
    "                y_test, z_test, _ = nnet.use(x_test, allOutputs=True)\n",
    "                train_data.append(np.sum(y_train != t_train) / t_train.shape[0])\n",
    "                test_data.append(np.sum(y_test != t_test) / t_test.shape[0])\n",
    "\n",
    "            else:\n",
    "                nnet = nn.NeuralNetwork(x_train.shape[1], hidden, t_train.shape[1])\n",
    "                nnet.train(x_train, t_train, nIterations=numberIterations)\n",
    "                y_train, z_train = nnet.use(x_train,  allOutputs=True)\n",
    "                y_test, z_test = nnet.use(x_test,  allOutputs=True)\n",
    "                train_data.append(np.sqrt(np.mean((y_train - t_train)**2)))\n",
    "                test_data.append(np.sqrt(np.mean((y_test - t_test)**2)))\n",
    "\n",
    "        results.append([hidden, train_data, test_data, time.time() - start_time])\n",
    "\n",
    "    return results\n",
    "\n",
    "\n",
    "def summarize(results):\n",
    "    summary = []\n",
    "    for result in results:\n",
    "        summary.append([result[0], np.mean(result[1]), np.mean(result[2]), result[3]])\n",
    "    return summary\n",
    "\n",
    "\n",
    "def bestNetwork(summary):\n",
    "    best = summary[0]\n",
    "    for index in summary:\n",
    "        if index[2] < best[2]:\n",
    "            best = index\n",
    "    return best"
   ]
  },
  {
   "cell_type": "markdown",
   "metadata": {},
   "source": [
    "## Simple Examples\n"
   ]
  },
  {
   "cell_type": "code",
   "execution_count": null,
   "metadata": {
    "collapsed": true
   },
   "outputs": [],
   "source": [
    "X = np.arange(10).reshape((-1,1))\n",
    "T = X + 1 + np.random.uniform(-1, 1, ((10,1)))"
   ]
  },
  {
   "cell_type": "code",
   "execution_count": null,
   "metadata": {
    "collapsed": true
   },
   "outputs": [],
   "source": [
    "plt.plot(X, T, 'o-');"
   ]
  },
  {
   "cell_type": "code",
   "execution_count": null,
   "metadata": {
    "collapsed": true
   },
   "outputs": [],
   "source": [
    "nnet = nn.NeuralNetwork(X.shape[1], 2, T.shape[1])\n",
    "nnet.train(X, T, 100)\n",
    "nnet.getErrorTrace()"
   ]
  },
  {
   "cell_type": "code",
   "execution_count": null,
   "metadata": {
    "collapsed": true
   },
   "outputs": [],
   "source": [
    "nnet = nn.NeuralNetwork(X.shape[1], [5, 5, 5], T.shape[1])\n",
    "nnet.train(X, T, 100)\n",
    "nnet.getErrorTrace()"
   ]
  },
  {
   "cell_type": "code",
   "execution_count": null,
   "metadata": {
    "collapsed": true
   },
   "outputs": [],
   "source": [
    "results = trainNNs(X, T, 0.8, [2, 10, [10, 10]], 5, 100, classify=False)\n",
    "results"
   ]
  },
  {
   "cell_type": "code",
   "execution_count": null,
   "metadata": {
    "collapsed": true
   },
   "outputs": [],
   "source": [
    "results = trainNNs(X, T, 0.8, [0, 1, 2, 10, [10, 10], [5, 5, 5, 5], [2]*5], 50, 400, classify=False)"
   ]
  },
  {
   "cell_type": "code",
   "execution_count": null,
   "metadata": {
    "collapsed": true
   },
   "outputs": [],
   "source": [
    "summarize(results)"
   ]
  },
  {
   "cell_type": "code",
   "execution_count": null,
   "metadata": {
    "collapsed": true
   },
   "outputs": [],
   "source": [
    "best = bestNetwork(summarize(results))\n",
    "print(best)\n",
    "print('Hidden Layers {} Average RMSE Training {:.2f} Testing {:.2f} Took {:.2f} seconds'.format(*best))"
   ]
  },
  {
   "cell_type": "markdown",
   "metadata": {},
   "source": [
    "A neural net with no hidden layers does best on this simple data set. "
   ]
  },
  {
   "cell_type": "markdown",
   "metadata": {},
   "source": [
    "## Data for Regression Experiment\n",
    "\n",
    "The following section uses data from the UCI Machine Learning Repository.\n",
    "\n",
    "Download [Appliances energy prediction](http://archive.ics.uci.edu/ml/datasets/Appliances+energy+prediction) \n",
    "\n",
    "  You can do this by visiting the Data Folder for this data set, or just do this:\n",
    "\n",
    "     !wget http://archive.ics.uci.edu/ml/machine-learning-databases/00374/energydata_complete.csv"
   ]
  },
  {
   "cell_type": "markdown",
   "metadata": {},
   "source": [
    "The following function will read the data into a dataframe and remove unnecissary columns. "
   ]
  },
  {
   "cell_type": "code",
   "execution_count": null,
   "metadata": {
    "collapsed": true
   },
   "outputs": [],
   "source": [
    "def energy_df_read_csv(address):\n",
    "    energy_df = pd.read_csv(address)\n",
    "    energy_df.drop(['date', 'rv1', 'rv2'], axis=1, inplace=True)\n",
    "    return energy_df\n",
    "\n",
    "def energy_df_reshape(energy_df):\n",
    "    t_energy_df = energy_df.iloc[:, 0:2]\n",
    "    x_energy_df = energy_df.iloc[:, 2:]\n",
    "    return x_energy_df, t_energy_df"
   ]
  },
  {
   "cell_type": "code",
   "execution_count": null,
   "metadata": {
    "collapsed": true
   },
   "outputs": [],
   "source": [
    "energy_df = energy_df_read_csv('energydata_complete.csv')\n",
    "energy_df"
   ]
  },
  {
   "cell_type": "markdown",
   "metadata": {},
   "source": [
    "The code below transformes the data into two dataframes for training. The first two columns, labelled Appliances and lights as the target variables, and the remaining 24 columns are the input features."
   ]
  },
  {
   "cell_type": "code",
   "execution_count": null,
   "metadata": {
    "collapsed": true,
    "scrolled": true
   },
   "outputs": [],
   "source": [
    "x_energy_df, t_energy_df = energy_df_reshape(energy_df)\n",
    "x_energy_df \n",
    "t_energy_df"
   ]
  },
  {
   "cell_type": "markdown",
   "metadata": {},
   "source": [
    "Train for several neural networks on the data for 100 iterations and plot the error trace (nnet.getErrorTrace()).  100 may not be enough.  If for your larger networks the error is still decreasing after 100 iterations you should train all nets for more than 100 iterations.\n",
    "\n",
    "Now use your `trainNNs`, `summarize`, and `bestNetwork` functions on this data to investigate various network sizes."
   ]
  },
  {
   "cell_type": "markdown",
   "metadata": {},
   "source": [
    "Converting the dataframes to numpy arrays for easier manipulation in trainNNs"
   ]
  },
  {
   "cell_type": "code",
   "execution_count": null,
   "metadata": {
    "collapsed": true
   },
   "outputs": [],
   "source": [
    "x_energy_np = x_energy_df.values\n",
    "t_energy_np = t_energy_df.values"
   ]
  },
  {
   "cell_type": "code",
   "execution_count": null,
   "metadata": {
    "collapsed": true
   },
   "outputs": [],
   "source": [
    "trainNNs(x_energy_np, t_energy_np, 0.8, [0], 10, 100, False)\n",
    "plt.plot(nnet.getErrorTrace())\n",
    "plt.show()\n",
    "plt.gcf().clear()"
   ]
  },
  {
   "cell_type": "code",
   "execution_count": null,
   "metadata": {
    "collapsed": true
   },
   "outputs": [],
   "source": [
    "trainNNs(x_energy_np, t_energy_np, 0.8, [5], 10, 100, False)\n",
    "plt.plot(nnet.getErrorTrace())\n",
    "plt.show()\n",
    "plt.gcf().clear()"
   ]
  },
  {
   "cell_type": "code",
   "execution_count": null,
   "metadata": {
    "collapsed": true
   },
   "outputs": [],
   "source": [
    "trainNNs(x_energy_np, t_energy_np, 0.8, [5, 5], 10, 100, False)\n",
    "plt.plot(nnet.getErrorTrace())\n",
    "plt.show()\n",
    "plt.gcf().clear()"
   ]
  },
  {
   "cell_type": "code",
   "execution_count": null,
   "metadata": {
    "collapsed": true
   },
   "outputs": [],
   "source": [
    "trainNNs(x_energy_np, t_energy_np, 0.8, [10, 10], 10, 100, False)\n",
    "plt.plot(nnet.getErrorTrace())\n",
    "plt.show()\n",
    "plt.gcf().clear()"
   ]
  },
  {
   "cell_type": "code",
   "execution_count": null,
   "metadata": {
    "collapsed": true
   },
   "outputs": [],
   "source": [
    "results = trainNNs(x_energy_np, t_energy_np, 0.8, [0, 5, [5, 5], [10, 10]], 10, 200)"
   ]
  },
  {
   "cell_type": "code",
   "execution_count": null,
   "metadata": {
    "collapsed": true
   },
   "outputs": [],
   "source": [
    "summarize(results)"
   ]
  },
  {
   "cell_type": "code",
   "execution_count": null,
   "metadata": {
    "collapsed": true
   },
   "outputs": [],
   "source": [
    "bestNetwork(summarize(results))"
   ]
  },
  {
   "cell_type": "markdown",
   "metadata": {},
   "source": [
    "Test at least 10 different hidden layer structures.  Larger numbers of layers and units may do the best on training data, but not on testing data."
   ]
  },
  {
   "cell_type": "code",
   "execution_count": null,
   "metadata": {
    "collapsed": true
   },
   "outputs": [],
   "source": [
    "hidden_layers = [[0], [2], [5], [10], [2]*2, [5]*2, [10]*2, [2]*5, [5]*5, [10]*5, [2]*10, [5]*10]\n",
    "results = trainNNs(x_energy_np, t_energy_np, 0.8, hidden_layers, 10, 200, False)"
   ]
  },
  {
   "cell_type": "code",
   "execution_count": null,
   "metadata": {
    "collapsed": true
   },
   "outputs": [],
   "source": [
    "summarize(results)"
   ]
  },
  {
   "cell_type": "code",
   "execution_count": null,
   "metadata": {
    "collapsed": true
   },
   "outputs": [],
   "source": [
    "bestNetwork(summarize(results))"
   ]
  },
  {
   "cell_type": "code",
   "execution_count": null,
   "metadata": {
    "collapsed": true
   },
   "outputs": [],
   "source": [
    "best_hidden = bestNetwork(summarize(results))\n",
    "best_hidden"
   ]
  },
  {
   "cell_type": "markdown",
   "metadata": {},
   "source": [
    "Now train another network with your best hidden layer structure on 0.8 of the data and use the trained network on the testing data."
   ]
  },
  {
   "cell_type": "code",
   "execution_count": null,
   "metadata": {
    "collapsed": true
   },
   "outputs": [],
   "source": [
    "x_train_np, t_train_np, x_test_np, t_test_np = ml.partition(x_energy_np, t_energy_np, (0.8, 0.2), False)\n",
    "better_nnet = nn.NeuralNetwork(x_energy_np.shape[1], best_hidden[0], t_energy_np.shape[1])\n",
    "better_nnet.train(x_train_np, t_train_np, 200)\n",
    "better_test, z_test = better_nnet.use(x_test_np, allOutputs=True)\n",
    "better_train, z_train = better_nnet.use(x_train_np, allOutputs=True)"
   ]
  },
  {
   "cell_type": "markdown",
   "metadata": {},
   "source": [
    "For the testing data, plot the predicted and actual `Appliances` energy use, and the predicted and actual `lights` energy use, in two separate plots. "
   ]
  },
  {
   "cell_type": "code",
   "execution_count": null,
   "metadata": {
    "collapsed": true
   },
   "outputs": [],
   "source": [
    "plt.subplot(nPlotRows, 1, 3)\n",
    "plt.plot(x_test_np, t_test_np, 'o-', label='Test Target')\n",
    "plt.plot(x_test_np, better_test, 'o-', label='Test NN Output')\n",
    "plt.ylabel('Testing Data')\\\n",
    "plt.show()\n",
    "plt.gcf().clear()"
   ]
  },
  {
   "cell_type": "markdown",
   "metadata": {},
   "source": [
    "## Data for Classification Experiment\n",
    "\n",
    "The following section uses data from the UCI Machine Learning Repository.\n",
    "\n",
    "Download [Anuran Calls (MFCCs)](http://archive.ics.uci.edu/ml/datasets/Anuran+Calls+%28MFCCs%29)|\n",
    "\n",
    "You can do this by visiting the Data Folder for this data set, or just do this:\n",
    "\n",
    "     !wget 'http://archive.ics.uci.edu/ml/machine-learning-databases/00406/Anuran Calls (MFCCs).zip'\n",
    "     !unzip Anuran*zip\n",
    "\n",
    "The following function will read the data into a dataframe and remove unnecissary columns. In addition, it will convert unique species into a number."
   ]
  },
  {
   "cell_type": "code",
   "execution_count": null,
   "metadata": {
    "collapsed": true
   },
   "outputs": [],
   "source": [
    "def frogs_df_read_csv(address):\n",
    "    frogs = pd.read_csv(address)\n",
    "    frogs.drop(['MFCCs_ 1','Family', 'Genus', 'RecordID'], axis=1, inplace=True)\n",
    "    frogs['Species'] = pd.factorize(frogs.Species)[0]\n",
    "    return frogs\n",
    "\n",
    "\n",
    "def frogs_df_reshape(frogs):\n",
    "    Tanuran = frogs.iloc[:, -1:]\n",
    "    Xanuran = frogs.iloc[:, :-1]\n",
    "    print(Xanuran.shape, Tanuran.shape)\n",
    "    return Xanuran, Tanuran"
   ]
  },
  {
   "cell_type": "code",
   "execution_count": null,
   "metadata": {
    "collapsed": true
   },
   "outputs": [],
   "source": [
    "frogs_df = frogs_df_read_csv('Frogs_MFCCs.csv')\n",
    "x_frogs_df, t_frogs_df = frogs_df_reshape(frogs_df)"
   ]
  },
  {
   "cell_type": "code",
   "execution_count": null,
   "metadata": {
    "collapsed": true
   },
   "outputs": [],
   "source": [
    "x_frogs_np = x_frogs_df.values\n",
    "t_frogs_np = t_frogs_df.values\n",
    "x_frogs_np[:2,:]"
   ]
  },
  {
   "cell_type": "code",
   "execution_count": null,
   "metadata": {
    "collapsed": true
   },
   "outputs": [],
   "source": [
    "t_frogs_np[:2]"
   ]
  },
  {
   "cell_type": "code",
   "execution_count": null,
   "metadata": {
    "collapsed": true
   },
   "outputs": [],
   "source": [
    "for i in range(10):\n",
    "    print('{} samples in class {}'.format(np.sum(t_frogs_np==i), i))"
   ]
  },
  {
   "cell_type": "code",
   "execution_count": null,
   "metadata": {
    "collapsed": true
   },
   "outputs": [],
   "source": [
    "results = trainNNs(x_frogs_np, t_frogs_np, 0.8, [0, 5, [5, 5]], 5, 200, classify=True)"
   ]
  },
  {
   "cell_type": "code",
   "execution_count": null,
   "metadata": {
    "collapsed": true
   },
   "outputs": [],
   "source": [
    "summarize(results)"
   ]
  },
  {
   "cell_type": "code",
   "execution_count": null,
   "metadata": {
    "collapsed": true
   },
   "outputs": [],
   "source": [
    "bestNetwork(summarize(results))"
   ]
  },
  {
   "cell_type": "markdown",
   "metadata": {},
   "source": [
    "Similar investigation to the regression data. "
   ]
  },
  {
   "cell_type": "code",
   "execution_count": null,
   "metadata": {
    "collapsed": true
   },
   "outputs": [],
   "source": [
    "hidden_layers = [[0], [2], [5], [10], [2]*2, [5]*2, [10]*2, [2]*5, [5]*5, [10]*5, [2]*10, [5]*10]\n",
    "results = trainNNs(x_frogs_np, t_frogs_np, 0.8, hidden_layers, 5, 200, classify=True)"
   ]
  },
  {
   "cell_type": "code",
   "execution_count": null,
   "metadata": {
    "collapsed": true
   },
   "outputs": [],
   "source": [
    "summarize(results)"
   ]
  },
  {
   "cell_type": "code",
   "execution_count": null,
   "metadata": {
    "collapsed": true
   },
   "outputs": [],
   "source": [
    "bestNetwork(summarize(results))"
   ]
  },
  {
   "cell_type": "code",
   "execution_count": null,
   "metadata": {
    "collapsed": true
   },
   "outputs": [],
   "source": [
    "best_hidden = bestNetwork(summarize(results))\n",
    "best_hidden"
   ]
  },
  {
   "cell_type": "code",
   "execution_count": null,
   "metadata": {
    "collapsed": true
   },
   "outputs": [],
   "source": [
    "x_train_np, t_train_np, x_test_np, t_test_np = ml.partition(x_frogs_np, t_frogs_np, (0.8, 0.2), False)\n",
    "better_nnet = nn.NeuralNetworkClassifier(X.shape[1], hidden, len(np.unique(t_frogs_np)))\n",
    "better_nnet.train(x_train_np, t_train_np, 200)\n",
    "better_train, z_train, _ = nnet.use(x_train_np, allOutputs=True)\n",
    "better_test, z_test, _ = nnet.use(x_test_np, allOutputs=True)"
   ]
  },
  {
   "cell_type": "markdown",
   "metadata": {},
   "source": [
    "Plot the predicted and actual Species for the testing data as an integer. "
   ]
  },
  {
   "cell_type": "code",
   "execution_count": null,
   "metadata": {
    "collapsed": true
   },
   "outputs": [],
   "source": [
    "plt.subplot(nPlotRows, 1, 3)\n",
    "plt.plot(x_test_np, t_test_np, 'o-', label='Test Target')\n",
    "plt.plot(x_test_np, better_test, 'o-', label='Test NN Output')\n",
    "plt.ylabel('Testing Data')"
   ]
  }
 ],
 "metadata": {
  "anaconda-cloud": {},
  "kernelspec": {
   "display_name": "Python 3",
   "language": "python",
   "name": "python3"
  },
  "language_info": {
   "codemirror_mode": {
    "name": "ipython",
    "version": 3
   },
   "file_extension": ".py",
   "mimetype": "text/x-python",
   "name": "python",
   "nbconvert_exporter": "python",
   "pygments_lexer": "ipython3",
   "version": "3.6.3"
  },
  "toc": {
   "nav_menu": {},
   "number_sections": true,
   "sideBar": true,
   "skip_h1_title": false,
   "toc_cell": false,
   "toc_position": {},
   "toc_section_display": "block",
   "toc_window_display": false
  }
 },
 "nbformat": 4,
 "nbformat_minor": 1
}
