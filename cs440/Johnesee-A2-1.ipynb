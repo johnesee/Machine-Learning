{
 "cells": [
  {
   "cell_type": "markdown",
   "metadata": {},
   "source": [
    "# Assignment 2: Iterative-Deepening Search"
   ]
  },
  {
   "cell_type": "markdown",
   "metadata": {},
   "source": [
    "Michael Johnesee"
   ]
  },
  {
   "cell_type": "markdown",
   "metadata": {},
   "source": [
    "## Overview"
   ]
  },
  {
   "cell_type": "markdown",
   "metadata": {},
   "source": [
    "This notebook implements the iterative-deepening search algorithm for the purpose of solving the 8-puzzle and the Tower of Hanoi."
   ]
  },
  {
   "cell_type": "markdown",
   "metadata": {},
   "source": [
    "## Required Code"
   ]
  },
  {
   "cell_type": "markdown",
   "metadata": {},
   "source": [
    "For the 8-puzzle algorithm, the primary two functions were:\n",
    "  * `iterativeDeepeningSearch(startState, goalState, actionsF, takeActionF, maxDepth)`\n",
    "  * `depthLimitedSearch(startState, goalState, actionsF, takeActionF, depthLimit)`\n",
    "\n",
    "With support functions used as parameters\n",
    "  * `findBlank_8p(state)`\n",
    "  * `actionsF_8p(state)` \n",
    "  * `takeActionF_8p(state, action)`\n",
    "And helper functions\n",
    "  \n",
    "`depthLimitedSearch` is called by `iterativeDeepeningSearch` with `depthLimit`s of $0, 1, \\ldots, $ `maxDepth`. \n",
    "Both will return  the solution path as a list of states, the string `cutoff`, or `failure`.  "
   ]
  },
  {
   "cell_type": "code",
   "execution_count": 1,
   "metadata": {
    "collapsed": true
   },
   "outputs": [],
   "source": [
    "import random\n",
    "import copy"
   ]
  },
  {
   "cell_type": "code",
   "execution_count": 2,
   "metadata": {
    "collapsed": true
   },
   "outputs": [],
   "source": [
    "def iterativeDeepeningSearch(startState, goalState, actionsF, takeActionF, maxDepth):\n",
    "    for depth in range(maxDepth):\n",
    "        result = depthLimitedSearch(startState, goalState, actionsF, takeActionF, depth)\n",
    "        # Failure to find goal\n",
    "        if result == 'failure':\n",
    "            return 'failure'\n",
    "        # Solution as list of States\n",
    "        if result != 'cutoff':\n",
    "            result.insert(0, startState)\n",
    "            return result\n",
    "    # Cutoff\n",
    "    return 'cutoff'"
   ]
  },
  {
   "cell_type": "code",
   "execution_count": 3,
   "metadata": {
    "collapsed": true
   },
   "outputs": [],
   "source": [
    "def depthLimitedSearch(startState, goalState, actionsF, takeActionF, depthLimit):\n",
    "    if startState == goalState:\n",
    "        return []\n",
    "    if depthLimit == 0:\n",
    "        return 'cutoff'\n",
    "    cutoffOccurred = False\n",
    "    for action in actionsF(startState):\n",
    "        state = startState\n",
    "        childState = takeActionF_8p(state, action)\n",
    "        result = depthLimitedSearch(childState, goalState, actionsF, takeActionF, depthLimit-1)\n",
    "        if result == 'cutoff':\n",
    "            cutoffOccurred = True\n",
    "        # Solution as list of States\n",
    "        elif result != 'failure':\n",
    "            result.insert(0, childState)\n",
    "            return result\n",
    "    # Cutoff\n",
    "    if cutoffOccurred:\n",
    "        return 'cutoff'\n",
    "    # Failure to find goal\n",
    "    else:\n",
    "        return 'failure'"
   ]
  },
  {
   "cell_type": "code",
   "execution_count": 4,
   "metadata": {
    "collapsed": true
   },
   "outputs": [],
   "source": [
    "# REQUIRED: Return the row and column index for the location of the blank\n",
    "def findBlank_8p(currentState):\n",
    "    index = currentState.index(0)\n",
    "    return coordinate(index, 3)\n",
    "\n",
    "\n",
    "def coordinate(index, width):\n",
    "    x = index % width\n",
    "    y = index // width\n",
    "    return y, x"
   ]
  },
  {
   "cell_type": "code",
   "execution_count": 5,
   "metadata": {
    "collapsed": true
   },
   "outputs": [],
   "source": [
    "# REQUIRED: Return a list of up to four valid actions that can be applied in state. Order is left, right, up, down\n",
    "def actionsF_8p(currentState):\n",
    "    y, x = findBlank_8p(currentState)\n",
    "    moves = ['left', 'right', 'up', 'down']\n",
    "    # Remove X restrictions\n",
    "    if x == 0:\n",
    "        moves.remove('left')\n",
    "    elif x == 2:\n",
    "        moves.remove('right')\n",
    "    # Remove Y restrictions\n",
    "    if y == 0:\n",
    "        moves.remove('up')\n",
    "    elif y == 2:\n",
    "        moves.remove('down')\n",
    "    return moves\n",
    "\n",
    "\n",
    "# REQUIRED: Return the state that results from applying action in state.\n",
    "def takeActionF_8p(currentState, direction):\n",
    "    index = currentState.index(0)\n",
    "    actions = actionsF_8p(currentState)\n",
    "    nextState = currentState.copy()\n",
    "    if direction == 'left' and 'left' in actions:\n",
    "        nextState[index - 1], nextState[index] = nextState[index], nextState[index - 1]\n",
    "    elif direction == 'right'and 'right' in actions:\n",
    "        nextState[index + 1], nextState[index] = nextState[index], nextState[index + 1]\n",
    "    elif direction == 'up' and 'up' in actions:\n",
    "        nextState[index - 3], nextState[index] = nextState[index], nextState[index - 3]\n",
    "    elif direction == 'down' and 'down' in actions:\n",
    "        nextState[index + 3], nextState[index] = nextState[index], nextState[index + 3]\n",
    "    else:\n",
    "        print('Error: Illegal Move')\n",
    "    return nextState"
   ]
  },
  {
   "cell_type": "code",
   "execution_count": 6,
   "metadata": {
    "collapsed": true
   },
   "outputs": [],
   "source": [
    "# REQUIRED: Print a solution path in a readable form. You choose the format.\n",
    "def printPath_8p(startState, goalState, path):\n",
    "    print('The path from ')\n",
    "    printState_8p(startState, 0)\n",
    "    print('to ')\n",
    "    printState_8p(goalState, 0)\n",
    "    print('takes {} steps'.format(len(path)-1))\n",
    "    space = 0\n",
    "    for state in path:\n",
    "        printState_8p(state, space)\n",
    "        space += 2\n",
    "\n",
    "\n",
    "def replaceZero(currentState):\n",
    "        for n, i in enumerate(currentState):\n",
    "            if i == 0:\n",
    "                currentState[n] = ' '\n",
    "\n",
    "\n",
    "def printState_8p(currentState, space):\n",
    "    print('{}{} {} {}'.format(' '*space, currentState[0], currentState[1], currentState[2]))\n",
    "    print('{}{} {} {}'.format(' '*space, currentState[3], currentState[4], currentState[5]))\n",
    "    print('{}{} {} {}'.format(' '*space, currentState[6], currentState[7], currentState[8]))"
   ]
  },
  {
   "cell_type": "markdown",
   "metadata": {},
   "source": [
    "<font color='red'>Also</font>, implement a second search problem of your choice.  Apply your `iterativeDeepeningSearch` function to it."
   ]
  },
  {
   "cell_type": "markdown",
   "metadata": {},
   "source": [
    "For the Towers of Hanoi algorithm, the primary two functions were similar to the earlier 8-puzzle\n",
    "  * 'def hanoiIDS(startStacks, goalStacks, hanoiActions, maxDepth)'\n",
    "  * 'def hanoiDLS(startStacks, goalStacks, hanoiActions, depthLimit)'\n",
    "  \n",
    "With support functions used as parameters\n",
    "  * 'def hanoiActions(tempStacks):'\n",
    "  \n",
    "The major difference with my own implementation was with the takeActionsF function.  Since there were more than one element to move, I chose to loop through the returned action list instead of looping through an element and direction.  My hanoi implementaion does not currently generate a 'failure' result due to elements always able to move to a different stack."
   ]
  },
  {
   "cell_type": "code",
   "execution_count": 7,
   "metadata": {
    "collapsed": true
   },
   "outputs": [],
   "source": [
    "def hanoiIDS(startStacks, goalStacks, hanoiActions, maxDepth):\n",
    "    for depth in range(maxDepth):\n",
    "        result = hanoiDLS(startStacks, goalStacks, hanoiActions, depth)\n",
    "        # Failure to find goal\n",
    "        if result == 'failure':\n",
    "            return 'failure'\n",
    "        # Solution as list of States\n",
    "        if result != 'cutoff':\n",
    "            result.insert(0, startStacks)\n",
    "            return result\n",
    "    # Or Cutoff\n",
    "    return 'cutoff'\n",
    "\n",
    "\n",
    "def hanoiDLS(startStacks, goalStacks, hanoiActions, depthLimit):\n",
    "    if startStacks == goalStacks:\n",
    "    # if hanoiMatchStacks(startStacks, goalStacks):\n",
    "        return []\n",
    "    if depthLimit == 0:\n",
    "        return 'cutoff'\n",
    "    cutoffOccurred = False\n",
    "    for actionStacks in hanoiActions(startStacks):\n",
    "        stacks = copy.deepcopy(startStacks)\n",
    "        childStacks = copy.deepcopy(actionStacks)\n",
    "        result = hanoiDLS(childStacks, goalStacks, hanoiActions, depthLimit-1)\n",
    "        if result == 'cutoff':\n",
    "            cutoffOccurred = True\n",
    "        elif result != 'failure':\n",
    "            result.insert(0, childStacks)\n",
    "            return result\n",
    "    if cutoffOccurred:\n",
    "        return 'cutoff'\n",
    "    else:\n",
    "        return 'failure'"
   ]
  },
  {
   "cell_type": "code",
   "execution_count": 8,
   "metadata": {
    "collapsed": true
   },
   "outputs": [],
   "source": [
    "def hanoiActions(tempStacks):\n",
    "    currentStacks = copy.deepcopy(tempStacks)\n",
    "    actionList = []\n",
    "    if len(currentStacks[0]) > 0:\n",
    "        if len(currentStacks[1]) > 0:\n",
    "            if currentStacks[0][-1] < currentStacks[1][-1]:\n",
    "                actionList.append(hanoiActionHelper(copy.deepcopy(currentStacks), 0, 1))\n",
    "        else:\n",
    "            actionList.append(hanoiActionHelper(copy.deepcopy(currentStacks), 0, 1))\n",
    "        if len(currentStacks[2]) > 0:\n",
    "            if currentStacks[0][-1] < currentStacks[2][-1]:\n",
    "                actionList.append(hanoiActionHelper(copy.deepcopy(currentStacks), 0, 2))\n",
    "        else:\n",
    "            actionList.append(hanoiActionHelper(copy.deepcopy(currentStacks), 0, 2))\n",
    "    if len(currentStacks[1]) > 0:\n",
    "        if len(currentStacks[0]) > 0:\n",
    "            if currentStacks[1][-1] < currentStacks[0][-1]:\n",
    "                actionList.append(hanoiActionHelper(copy.deepcopy(currentStacks), 1, 0))\n",
    "        else:\n",
    "            actionList.append(hanoiActionHelper(copy.deepcopy(currentStacks), 1, 0))\n",
    "        if len(currentStacks[2]) > 0:\n",
    "            if currentStacks[1][-1] < currentStacks[2][-1]:\n",
    "                actionList.append(hanoiActionHelper(copy.deepcopy(currentStacks), 1, 2))\n",
    "        else:\n",
    "            actionList.append(hanoiActionHelper(copy.deepcopy(currentStacks), 1, 2))\n",
    "    if len(currentStacks[2]) > 0:\n",
    "        if len(currentStacks[0]) > 0:\n",
    "            if currentStacks[2][-1] < currentStacks[0][-1]:\n",
    "                actionList.append(hanoiActionHelper(copy.deepcopy(currentStacks), 2, 0))\n",
    "        else:\n",
    "            actionList.append(hanoiActionHelper(copy.deepcopy(currentStacks), 2, 0))\n",
    "        if len(currentStacks[1]) > 0:\n",
    "            if currentStacks[2][-1] < currentStacks[1][-1]:\n",
    "                actionList.append(hanoiActionHelper(copy.deepcopy(currentStacks), 2, 1))\n",
    "        else:\n",
    "            actionList.append(hanoiActionHelper(copy.deepcopy(currentStacks), 2, 1))\n",
    "    return actionList\n",
    "\n",
    "\n",
    "def hanoiActionHelper(tempStacks, i, j):\n",
    "    tempValue = tempStacks[i].pop(-1)\n",
    "    tempStacks[j].append(tempValue)\n",
    "    return tempStacks"
   ]
  },
  {
   "cell_type": "code",
   "execution_count": 9,
   "metadata": {
    "collapsed": true
   },
   "outputs": [],
   "source": [
    "def printPathHanoi(startStacks, goalStacks, path):\n",
    "    if path == 'cutoff' or path == 'failure':\n",
    "        print(path)\n",
    "    else:\n",
    "        maxHeight = len(startStacks[0])\n",
    "        print('The path from ')\n",
    "        printStacksHanoi(startStacks, maxHeight)\n",
    "        print('to')\n",
    "        printStacksHanoi(goalStacks, maxHeight)\n",
    "        print('takes {} steps'.format(len(path)-1))\n",
    "        for stacks in path:\n",
    "            printStacksHanoi(stacks, maxHeight)\n",
    "            print('')\n",
    "\n",
    "\n",
    "def printStacksHanoi(currentStacks, maxHeight):\n",
    "    for i in reversed(range(maxHeight)):\n",
    "        if i == 0:\n",
    "            left, center, right = '_', '_', '_'\n",
    "        else:\n",
    "            left, center, right = ' ', ' ', ' '\n",
    "        if len(currentStacks[0]) > i:\n",
    "            if currentStacks[0][i]:\n",
    "                left = currentStacks[0][i]\n",
    "        if len(currentStacks[1]) > i:\n",
    "            if currentStacks[1][i]:\n",
    "                center = currentStacks[1][i]\n",
    "        if len(currentStacks[2]) > i:\n",
    "            if currentStacks[2][i]:\n",
    "                right = currentStacks[2][i]\n",
    "        print('{} | {} | {}'.format(left, center, right))"
   ]
  },
  {
   "cell_type": "markdown",
   "metadata": {},
   "source": [
    "## 8-Puzzle Examples"
   ]
  },
  {
   "cell_type": "code",
   "execution_count": 10,
   "metadata": {
    "collapsed": true
   },
   "outputs": [],
   "source": [
    "startState = [1, 0, 3, 4, 2, 5, 6, 7, 8]"
   ]
  },
  {
   "cell_type": "code",
   "execution_count": 11,
   "metadata": {},
   "outputs": [
    {
     "name": "stdout",
     "output_type": "stream",
     "text": [
      "1 0 3\n",
      "4 2 5\n",
      "6 7 8\n"
     ]
    }
   ],
   "source": [
    "printState_8p(startState, 0)"
   ]
  },
  {
   "cell_type": "code",
   "execution_count": 12,
   "metadata": {},
   "outputs": [
    {
     "data": {
      "text/plain": [
       "(0, 1)"
      ]
     },
     "execution_count": 12,
     "metadata": {},
     "output_type": "execute_result"
    }
   ],
   "source": [
    "findBlank_8p(startState)"
   ]
  },
  {
   "cell_type": "code",
   "execution_count": 13,
   "metadata": {},
   "outputs": [
    {
     "data": {
      "text/plain": [
       "['left', 'right', 'down']"
      ]
     },
     "execution_count": 13,
     "metadata": {},
     "output_type": "execute_result"
    }
   ],
   "source": [
    "actionsF_8p(startState)"
   ]
  },
  {
   "cell_type": "code",
   "execution_count": 14,
   "metadata": {},
   "outputs": [
    {
     "data": {
      "text/plain": [
       "[1, 2, 3, 4, 0, 5, 6, 7, 8]"
      ]
     },
     "execution_count": 14,
     "metadata": {},
     "output_type": "execute_result"
    }
   ],
   "source": [
    "takeActionF_8p(startState, 'down')"
   ]
  },
  {
   "cell_type": "code",
   "execution_count": 15,
   "metadata": {},
   "outputs": [
    {
     "name": "stdout",
     "output_type": "stream",
     "text": [
      "1 2 3\n",
      "4 0 5\n",
      "6 7 8\n"
     ]
    }
   ],
   "source": [
    "printState_8p(takeActionF_8p(startState, 'down'), 0)"
   ]
  },
  {
   "cell_type": "code",
   "execution_count": 16,
   "metadata": {
    "collapsed": true
   },
   "outputs": [],
   "source": [
    "goalState = takeActionF_8p(startState, 'down')"
   ]
  },
  {
   "cell_type": "code",
   "execution_count": 17,
   "metadata": {
    "collapsed": true
   },
   "outputs": [],
   "source": [
    "newState = takeActionF_8p(startState, 'down')"
   ]
  },
  {
   "cell_type": "code",
   "execution_count": 18,
   "metadata": {},
   "outputs": [
    {
     "data": {
      "text/plain": [
       "True"
      ]
     },
     "execution_count": 18,
     "metadata": {},
     "output_type": "execute_result"
    }
   ],
   "source": [
    "newState == goalState"
   ]
  },
  {
   "cell_type": "markdown",
   "metadata": {},
   "source": [
    "Solution using randomly generated start state."
   ]
  },
  {
   "cell_type": "code",
   "execution_count": 19,
   "metadata": {
    "collapsed": true
   },
   "outputs": [],
   "source": [
    "import random"
   ]
  },
  {
   "cell_type": "code",
   "execution_count": 20,
   "metadata": {},
   "outputs": [
    {
     "data": {
      "text/plain": [
       "'left'"
      ]
     },
     "execution_count": 20,
     "metadata": {},
     "output_type": "execute_result"
    }
   ],
   "source": [
    "random.choice(['left', 'right'])"
   ]
  },
  {
   "cell_type": "code",
   "execution_count": 21,
   "metadata": {
    "collapsed": true
   },
   "outputs": [],
   "source": [
    "def randomStartState(goalState, actionsF, takeActionF, nSteps):\n",
    "    state = goalState\n",
    "    for i in range(nSteps):\n",
    "        state = takeActionF(state, random.choice(actionsF(state)))\n",
    "    return state"
   ]
  },
  {
   "cell_type": "code",
   "execution_count": 22,
   "metadata": {},
   "outputs": [
    {
     "data": {
      "text/plain": [
       "[0, 1, 3, 6, 2, 5, 7, 4, 8]"
      ]
     },
     "execution_count": 22,
     "metadata": {},
     "output_type": "execute_result"
    }
   ],
   "source": [
    "startState = randomStartState(goalState, actionsF_8p, takeActionF_8p, 10)\n",
    "startState"
   ]
  },
  {
   "cell_type": "code",
   "execution_count": 23,
   "metadata": {},
   "outputs": [
    {
     "data": {
      "text/plain": [
       "[[0, 1, 3, 6, 2, 5, 7, 4, 8],\n",
       " [1, 0, 3, 6, 2, 5, 7, 4, 8],\n",
       " [1, 2, 3, 6, 0, 5, 7, 4, 8],\n",
       " [1, 2, 3, 6, 4, 5, 7, 0, 8],\n",
       " [1, 2, 3, 6, 4, 5, 0, 7, 8],\n",
       " [1, 2, 3, 0, 4, 5, 6, 7, 8],\n",
       " [1, 2, 3, 4, 0, 5, 6, 7, 8]]"
      ]
     },
     "execution_count": 23,
     "metadata": {},
     "output_type": "execute_result"
    }
   ],
   "source": [
    "path = iterativeDeepeningSearch(startState, goalState, actionsF_8p, takeActionF_8p, 20)\n",
    "path"
   ]
  },
  {
   "cell_type": "markdown",
   "metadata": {},
   "source": [
    "Print out the state sequence in a readable form."
   ]
  },
  {
   "cell_type": "code",
   "execution_count": 24,
   "metadata": {},
   "outputs": [
    {
     "name": "stdout",
     "output_type": "stream",
     "text": [
      "The path from \n",
      "0 1 3\n",
      "6 2 5\n",
      "7 4 8\n",
      "to \n",
      "1 2 3\n",
      "4 0 5\n",
      "6 7 8\n",
      "takes 6 steps\n",
      "0 1 3\n",
      "6 2 5\n",
      "7 4 8\n",
      "  1 0 3\n",
      "  6 2 5\n",
      "  7 4 8\n",
      "    1 2 3\n",
      "    6 0 5\n",
      "    7 4 8\n",
      "      1 2 3\n",
      "      6 4 5\n",
      "      7 0 8\n",
      "        1 2 3\n",
      "        6 4 5\n",
      "        0 7 8\n",
      "          1 2 3\n",
      "          0 4 5\n",
      "          6 7 8\n",
      "            1 2 3\n",
      "            4 0 5\n",
      "            6 7 8\n"
     ]
    }
   ],
   "source": [
    "printPath_8p(startState, goalState, path)"
   ]
  },
  {
   "cell_type": "markdown",
   "metadata": {},
   "source": [
    "## Hanoi Examples"
   ]
  },
  {
   "cell_type": "code",
   "execution_count": 25,
   "metadata": {},
   "outputs": [],
   "source": [
    "startStacks = [[3,2,1], [], []]"
   ]
  },
  {
   "cell_type": "code",
   "execution_count": 26,
   "metadata": {},
   "outputs": [
    {
     "name": "stdout",
     "output_type": "stream",
     "text": [
      "1 |   |  \n",
      "2 |   |  \n",
      "3 | _ | _\n"
     ]
    }
   ],
   "source": [
    "printStacksHanoi(startStacks, len(startStacks[0]))"
   ]
  },
  {
   "cell_type": "code",
   "execution_count": 27,
   "metadata": {
    "collapsed": true
   },
   "outputs": [],
   "source": [
    "goalStacks = [[], [], [3,2,1]]"
   ]
  },
  {
   "cell_type": "code",
   "execution_count": 28,
   "metadata": {
    "collapsed": true
   },
   "outputs": [],
   "source": [
    "printStacksHanoi(goalStacks, len(goalStacks[0]))"
   ]
  },
  {
   "cell_type": "markdown",
   "metadata": {},
   "source": [
    "For a stack of three, the steps required for a solution is 7"
   ]
  },
  {
   "cell_type": "code",
   "execution_count": 29,
   "metadata": {},
   "outputs": [
    {
     "name": "stdout",
     "output_type": "stream",
     "text": [
      "cutoff\n"
     ]
    }
   ],
   "source": [
    "printPathHanoi(startStacks, goalStacks, hanoiIDS(startStacks, goalStacks, hanoiActions, 5))"
   ]
  },
  {
   "cell_type": "code",
   "execution_count": 30,
   "metadata": {},
   "outputs": [
    {
     "name": "stdout",
     "output_type": "stream",
     "text": [
      "The path from \n",
      "1 |   |  \n",
      "2 |   |  \n",
      "3 | _ | _\n",
      "to\n",
      "  |   | 1\n",
      "  |   | 2\n",
      "_ | _ | 3\n",
      "takes 7 steps\n",
      "1 |   |  \n",
      "2 |   |  \n",
      "3 | _ | _\n",
      "\n",
      "  |   |  \n",
      "2 |   |  \n",
      "3 | _ | 1\n",
      "\n",
      "  |   |  \n",
      "  |   |  \n",
      "3 | 2 | 1\n",
      "\n",
      "  |   |  \n",
      "  | 1 |  \n",
      "3 | 2 | _\n",
      "\n",
      "  |   |  \n",
      "  | 1 |  \n",
      "_ | 2 | 3\n",
      "\n",
      "  |   |  \n",
      "  |   |  \n",
      "1 | 2 | 3\n",
      "\n",
      "  |   |  \n",
      "  |   | 2\n",
      "1 | _ | 3\n",
      "\n",
      "  |   | 1\n",
      "  |   | 2\n",
      "_ | _ | 3\n",
      "\n"
     ]
    }
   ],
   "source": [
    "printPathHanoi(startStacks, goalStacks, hanoiIDS(startStacks, goalStacks, hanoiActions, 8))"
   ]
  },
  {
   "cell_type": "markdown",
   "metadata": {},
   "source": [
    "## Problems"
   ]
  },
  {
   "cell_type": "markdown",
   "metadata": {},
   "source": [
    "1. Could not figure how to implement takeActionsF within Hanoi problem.\n",
    "2. List reference caused all moves to update referenced state, which caused infinite loop.  Fixed with creating deep copy.\n",
    "3. Loads of index out of bounds errors while working with List of lists.  Added checks for length before operations."
   ]
  },
  {
   "cell_type": "markdown",
   "metadata": {},
   "source": [
    "## Autograder"
   ]
  },
  {
   "cell_type": "markdown",
   "metadata": {},
   "source": [
    "The part of the autograder dealing with a dictionary does not work with my code, which was designed with using an array."
   ]
  },
  {
   "cell_type": "code",
   "execution_count": 31,
   "metadata": {},
   "outputs": [
    {
     "name": "stdout",
     "output_type": "stream",
     "text": [
      "\n",
      "Searching this graph:\n",
      " {'a': ['b', 'z', 'd'], 'b': ['a'], 'e': ['z'], 'd': ['y'], 'y': ['z']}\n",
      "\n",
      "Looking for path from a to y with max depth of 1.\n",
      " 5/ 5 points. Your search correctly returned cutoff\n",
      "\n",
      "Testing findBlank_8p([1, 2, 3, 4, 5, 6, 7, 0, 8])\n",
      " 5/ 5 points. Your findBlank_8p correctly returned 2 1\n",
      "\n",
      "Testing actionsF_8p([1, 2, 3, 4, 5, 6, 7, 0, 8])\n",
      "10/10 points. Your actionsF_8p correctly returned ['left', 'right', 'up']\n",
      "\n",
      "Testing takeActionF_8p([1, 2, 3, 4, 5, 6, 7, 0, 8],up)\n",
      "10/10 points. Your takeActionsF_8p correctly returned [1, 2, 3, 4, 0, 6, 7, 5, 8]\n",
      "\n",
      "Testing iterativeDeepeningSearch([1, 2, 3, 4, 5, 6, 7, 0, 8],[0, 2, 3, 1, 4,  6, 7, 5, 8], actionsF_8p, takeActionF_8p, 5)\n",
      "20/20 points. Your search correctly returned [[1, 2, 3, 4, 5, 6, 7, 0, 8], [1, 2, 3, 4, 0, 6, 7, 5, 8], [1, 2, 3, 0, 4, 6, 7, 5, 8], [0, 2, 3, 1, 4, 6, 7, 5, 8]]\n",
      "\n",
      "Testing iterativeDeepeningSearch([5, 2, 8, 0, 1, 4, 3, 7, 6], [0, 2, 3, 1, 4,  6, 7, 5, 8], actionsF_8p, takeActionF_8p, 10)\n",
      "20/20 points. Your search correctly returned cutoff\n",
      "\n",
      "D:\\Users\\Johnesee\\Downloads Grade is 70/80\n",
      "Up to 20 more points will be given based on the qualty of your descriptions of the method and the results.\n"
     ]
    }
   ],
   "source": [
    "# Delete all variables defined so far (in notebook)\n",
    "for name in dir():\n",
    "    if not callable(globals()[name]) and not name.startswith('_'):\n",
    "        del globals()[name]\n",
    "\n",
    "import numpy as np\n",
    "import os\n",
    "import copy\n",
    "\n",
    "# import A2mysolution as mine\n",
    "# iterativeDeepeningSearch = mine.iterativeDeepeningSearch\n",
    "# depthLimitedSearch = mine.depthLimitedSearch\n",
    "# findBlank_8p = mine.findBlank_8p\n",
    "# actionsF_8p = mine.actionsF_8p\n",
    "# takeActionF_8p = mine.takeActionF_8p\n",
    "# printPath_8p = mine.printPath_8p\n",
    "\n",
    "# def within(correct, attempt, diff):\n",
    "#     return np.abs((correct-attempt) / correct)  < diff\n",
    "\n",
    "g = 0\n",
    "\n",
    "for func in ['iterativeDeepeningSearch', 'depthLimitedSearch',\n",
    "             'findBlank_8p', 'actionsF_8p', 'takeActionF_8p', 'printPath_8p']:\n",
    "    if func not in dir() or not callable(globals()[func]):\n",
    "        print('CRITICAL ERROR: Function named \\'{}\\' is not defined'.format(func))\n",
    "        print('  Check the spelling and capitalization of the function name.')\n",
    "\n",
    "succs = {'a': ['b', 'z', 'd'], 'b':['a'], 'e':['z'], 'd':['y'], 'y':['z']}\n",
    "print('\\nSearching this graph:\\n', succs)\n",
    "def aF(state):\n",
    "    return copy.copy(succs.get(state,[]))\n",
    "def tAF(state, action):\n",
    "    return action\n",
    "print('\\nLooking for path from a to y with max depth of 1.')\n",
    "path = iterativeDeepeningSearch('a', 'y', aF, tAF, 1)\n",
    "if type(path) == str and path.lower() == 'cutoff':\n",
    "    g += 5\n",
    "    print(' 5/ 5 points. Your search correctly returned', path)\n",
    "else:\n",
    "    print(' 0/ 5 points. Your search should have returned ''cutoff''. You returned', path)\n",
    "\n",
    "# print('\\nLooking for path from a to y with max depth of 5.')\n",
    "# path = iterativeDeepeningSearch('a', 'z', aF, tAF, 5)\n",
    "# if path == ['a', 'z']:\n",
    "#     g += 10\n",
    "#     print('10/10 points. Your search correctly returned', path)\n",
    "# else:\n",
    "#     print(' 0/10 points. Your search should have returned', ['a', 'z'])\n",
    "\n",
    "print('\\nTesting findBlank_8p([1, 2, 3, 4, 5, 6, 7, 0, 8])')\n",
    "r, c = findBlank_8p([1, 2, 3, 4, 5, 6, 7, 0, 8])\n",
    "if r == 2 and c == 1:\n",
    "    g += 5\n",
    "    print(' 5/ 5 points. Your findBlank_8p correctly returned', r, c)\n",
    "else:\n",
    "    print(' 0/ 5 points. Your findBlank_8p should have returned 2 1 but you returned', r, c)\n",
    "\n",
    "print('\\nTesting actionsF_8p([1, 2, 3, 4, 5, 6, 7, 0, 8])')\n",
    "acts = actionsF_8p([1, 2, 3, 4, 5, 6, 7, 0, 8])\n",
    "correct = ['left', 'right', 'up']\n",
    "if acts == correct:\n",
    "    g += 10\n",
    "    print('10/10 points. Your actionsF_8p correctly returned', acts)\n",
    "else:\n",
    "    print(' 0/10 points. Your actionsF_8p should have returned', correct, 'but you returned', acts)\n",
    "\n",
    "print('\\nTesting takeActionF_8p([1, 2, 3, 4, 5, 6, 7, 0, 8],''up'')')\n",
    "s = takeActionF_8p([1, 2, 3, 4, 5, 6, 7, 0, 8],'up')\n",
    "correct = [1, 2, 3, 4, 0, 6, 7, 5, 8]\n",
    "if s == correct:\n",
    "    g += 10\n",
    "    print('10/10 points. Your takeActionsF_8p correctly returned', s)\n",
    "else:\n",
    "    print(' 0/10 points. Your takeActionsF_8p should have returned', correct, 'but you returned', s)\n",
    "\n",
    "\n",
    "print('\\nTesting iterativeDeepeningSearch([1, 2, 3, 4, 5, 6, 7, 0, 8],[0, 2, 3, 1, 4,  6, 7, 5, 8], actionsF_8p, takeActionF_8p, 5)')\n",
    "path = iterativeDeepeningSearch([1, 2, 3, 4, 5, 6, 7, 0, 8],[0, 2, 3, 1, 4,  6, 7, 5, 8], actionsF_8p, takeActionF_8p, 5)\n",
    "correct = [[1, 2, 3, 4, 5, 6, 7, 0, 8], [1, 2, 3, 4, 0, 6, 7, 5, 8], [1, 2, 3, 0, 4, 6, 7, 5, 8], [0, 2, 3, 1, 4, 6, 7, 5, 8]]\n",
    "if path == correct:\n",
    "    g += 20\n",
    "    print('20/20 points. Your search correctly returned', path)\n",
    "else:\n",
    "    print(' 0/20 points. Your search should have returned', correct, 'but you returned', path)\n",
    "\n",
    "print('\\nTesting iterativeDeepeningSearch([5, 2, 8, 0, 1, 4, 3, 7, 6], [0, 2, 3, 1, 4,  6, 7, 5, 8], actionsF_8p, takeActionF_8p, 10)')\n",
    "path = iterativeDeepeningSearch([5, 2, 8, 0, 1, 4, 3, 7, 6],[0, 2, 3, 1, 4,  6, 7, 5, 8], actionsF_8p, takeActionF_8p, 10)\n",
    "if type(path) == str and path.lower() == 'cutoff':\n",
    "    g += 20\n",
    "    print('20/20 points. Your search correctly returned', path)\n",
    "else:\n",
    "    print(' 0/20 points. Your search should have returned ''cutoff'', but you returned', path)\n",
    "\n",
    "\n",
    "print('\\n{} Grade is {}/80'.format(os.getcwd().split('/')[-1], g))\n",
    "print('Up to 20 more points will be given based on the qualty of your descriptions of the method and the results.')\n",
    "\n"
   ]
  },
  {
   "cell_type": "code",
   "execution_count": null,
   "metadata": {
    "collapsed": true
   },
   "outputs": [],
   "source": []
  }
 ],
 "metadata": {
  "anaconda-cloud": {},
  "kernelspec": {
   "display_name": "Python 3",
   "language": "python",
   "name": "python3"
  },
  "language_info": {
   "codemirror_mode": {
    "name": "ipython",
    "version": 3
   },
   "file_extension": ".py",
   "mimetype": "text/x-python",
   "name": "python",
   "nbconvert_exporter": "python",
   "pygments_lexer": "ipython3",
   "version": "3.6.1"
  }
 },
 "nbformat": 4,
 "nbformat_minor": 1
}
