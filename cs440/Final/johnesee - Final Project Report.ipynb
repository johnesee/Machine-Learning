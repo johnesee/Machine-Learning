{
 "cells": [
  {
   "cell_type": "markdown",
   "metadata": {},
   "source": [
    "# Training Neural Networks using GPUs\n",
    "*by Michael Johnesee, December 2017*\n",
    "*johnesee@rams.colostate.edu*"
   ]
  },
  {
   "cell_type": "markdown",
   "metadata": {},
   "source": [
    "## Introduction\n",
    "The advantages of using a Graphical Processing Unit (GPU) for Neural Networks are power efficiency and improved speed. Speedup comes from the inherently parallelizable nature of Neural Networks and the superior floating point operations of GPUs. Multiplications within each layer can be computed independently. Data dependencies are only found between layers. Latency-insensitive inference tasks during the training run can be pipelined between layers.  Batch training also benefits from using GPUs as well. This notebook looks into the various techniques for GPU utilization and features a simple speed for comparison."
   ]
  },
  {
   "cell_type": "markdown",
   "metadata": {},
   "source": [
    "## Methods\n",
    "###     Research\n",
    "\n",
    "Individually, GPUs feature many advantages over CPUs for parallel tasks. They typically have more computational units and a higher bandwidth for memory retrieval. Their architecture is ideal for neural network computations. Since they were designed for image processing, they also can be exploited for further speed-up.\n",
    "\n",
    "In addtion, there are several techniques for parallelizing a neural network using multiple GPUs:\n",
    "* Data Parallelism - Each GPU receives a complete copy of the model and trains it on a fraction of the data.\n",
    "* Model Parallelism - Network Model is split by assigning a layer to each GPU, with no GPU needing to maintain all the parameters .  Layers are connected by output activation order.\n",
    "* Hyper-Parameter Parallelism - Multiple training runs of different neural network models.\n",
    "\n",
    "Combining these techniques is surprisingly simple, with 16 GPUs being utilized through splitting a model over 4 GPUs and performing data parallelism on 4 copies on that partition.  A different Neural Network model could then be run on another 16 GPUs.\n",
    "\n",
    "###     Implementation\n",
    "Since access to multiple GPUs is rare, the code below looks at the time improvement that a single GPU has over a CPU. The data below was gathered on 'Swordfish', located in the Computer Science Building of Colorado State University. \n",
    "\n",
    "PyTorch is a python package that provides two high-level features:\n",
    "* Tensor computation (like numpy) with strong GPU acceleration\n",
    "* Deep Neural Networks built on a tape-based autograd system\n",
    "\n",
    "The code is based on an example provided by PyTorch: \n",
    "\n",
    "https://github.com/pytorch/examples/blob/master/mnist/main.py\n",
    "\n",
    "to train on the popular MNIST database of handwritten digits:\n",
    "\n",
    "http://yann.lecun.com/exdb/mnist/\n",
    "\n",
    "PyTorch operates on Linux or Mac OS and has built-in CUDA support for nVidia GPUs. It is recommended to install using Anaconda Package Manager:\n",
    "\n",
    "*conda install pytorch torchvision -c pytorch*\n",
    "\n",
    "### [Jump to Conclusion](#the_destination)\n",
    "\n",
    "## CPU Code"
   ]
  },
  {
   "cell_type": "markdown",
   "metadata": {},
   "source": [
    "### Dependencies:\n",
    "torch: \n",
    "* Tensor library with strong GPU support\n",
    "\n",
    "torchvision: \n",
    "* image and video datasets and models for torch deep learning"
   ]
  },
  {
   "cell_type": "code",
   "execution_count": 2,
   "metadata": {
    "collapsed": true
   },
   "outputs": [],
   "source": [
    "%matplotlib inline\n",
    "\n",
    "import torch\n",
    "import torch.nn as nn\n",
    "import torch.nn.functional as F\n",
    "import torch.optim as optim\n",
    "from torchvision import datasets, transforms\n",
    "from torch.autograd import Variable\n",
    "import time"
   ]
  },
  {
   "cell_type": "markdown",
   "metadata": {},
   "source": [
    "### Training Parameters:\n",
    "\n",
    "Batch Size: \n",
    "* the number of training examples in one forward/backward pass. The higher the batch size, the more memory space required.\n",
    "\n",
    "Epoch: \n",
    "* one forward pass and one backward pass of all the training examples\n",
    "\n",
    "Momentum: \n",
    "* make convergence faster with gradient descent vs a constant step"
   ]
  },
  {
   "cell_type": "code",
   "execution_count": 3,
   "metadata": {
    "collapsed": true
   },
   "outputs": [],
   "source": [
    "# Training settings\n",
    "train_batch_size = 64\n",
    "test_batch_size = 1000\n",
    "epochs = 50\n",
    "learning_rate = 0.01\n",
    "momentum = 0.5\n",
    "seed = 1\n",
    "log_interval = 200"
   ]
  },
  {
   "cell_type": "code",
   "execution_count": 4,
   "metadata": {
    "collapsed": true
   },
   "outputs": [],
   "source": [
    "class Net(nn.Module):\n",
    "    def __init__(self):\n",
    "        super(Net, self).__init__()\n",
    "        self.conv1 = nn.Conv2d(1, 10, kernel_size=5)\n",
    "        self.conv2 = nn.Conv2d(10, 20, kernel_size=5)\n",
    "        self.conv2_drop = nn.Dropout2d()\n",
    "        self.fc1 = nn.Linear(320, 50)\n",
    "        self.fc2 = nn.Linear(50, 10)\n",
    "\n",
    "    def forward(self, x):\n",
    "        x = F.relu(F.max_pool2d(self.conv1(x), 2))\n",
    "        x = F.relu(F.max_pool2d(self.conv2_drop(self.conv2(x)), 2))\n",
    "        x = x.view(-1, 320)\n",
    "        x = F.relu(self.fc1(x))\n",
    "        x = F.dropout(x, training=self.training)\n",
    "        x = self.fc2(x)\n",
    "        return F.log_softmax(x)"
   ]
  },
  {
   "cell_type": "markdown",
   "metadata": {},
   "source": [
    "### PyTorch Function Choices\n",
    "Loss Function: Negative Log-Likelihood\n",
    "* L(y) = −log(y)\n",
    "* NLL is seful to train classification problems\n",
    "\n",
    "Weight Function: Stochastic Gradient Descent\n",
    "* weight = weight - learning_rate * gradient\n",
    "* SGD is used to minimize the high cost of running back propagation over the full training set.\n",
    "\n",
    "Both torch.optim and torch.nn.functional feature many other predefined functions to optimize their neural network code."
   ]
  },
  {
   "cell_type": "code",
   "execution_count": 5,
   "metadata": {
    "collapsed": true
   },
   "outputs": [],
   "source": [
    "torch.manual_seed(seed)\n",
    "kwargs = {}\n",
    "\n",
    "train_loader = torch.utils.data.DataLoader(datasets.MNIST('../data', train=True, download=True, \n",
    "                                                          transform=transforms.Compose([transforms.ToTensor(), \n",
    "                                                                                        transforms.Normalize((0.1307,),\n",
    "                                                                                                             (0.3081,))])), \n",
    "                                           batch_size=train_batch_size, shuffle=True, **kwargs)\n",
    "\n",
    "test_loader = torch.utils.data.DataLoader(datasets.MNIST('../data', \n",
    "                                                         train=False, transform=transforms.Compose([transforms.ToTensor(),\n",
    "                                                                                                    transforms.Normalize((0.1307,), (0.3081,))])),\n",
    "                                          batch_size=test_batch_size, shuffle=True, **kwargs)\n",
    "test_model = Net()\n",
    "model = test_model\n",
    "optimizer = optim.SGD(model.parameters(), lr=learning_rate, momentum=momentum)"
   ]
  },
  {
   "cell_type": "markdown",
   "metadata": {},
   "source": [
    "### Method Outputs:\n",
    "* train: Periodically prints the loss value, which is an estimate of how far away the output is from the target.\n",
    "* test: Prints the average loss and how accurate the test data is to the training data."
   ]
  },
  {
   "cell_type": "code",
   "execution_count": 6,
   "metadata": {
    "collapsed": true
   },
   "outputs": [],
   "source": [
    "def train(epoch):\n",
    "    model.train()\n",
    "    for batch_idx, (data, target) in enumerate(train_loader):\n",
    "        data, target = Variable(data), Variable(target)\n",
    "        optimizer.zero_grad()\n",
    "        output = model(data)\n",
    "        loss = F.nll_loss(output, target)\n",
    "        loss.backward()\n",
    "        optimizer.step()\n",
    "        if batch_idx % log_interval == 0 and epoch % 5 == 0:\n",
    "            print('Train Epoch: {} [{}/{} ({:.0f}%)]\\tLoss: {:.6f}'.format(\n",
    "                epoch, batch_idx * len(data), len(train_loader.dataset),\n",
    "                100. * batch_idx / len(train_loader), loss.data[0]))\n",
    "\n",
    "\n",
    "def test():\n",
    "    model.eval()\n",
    "    test_loss = 0\n",
    "    correct = 0\n",
    "    for data, target in test_loader:\n",
    "        data, target = Variable(data, volatile=True), Variable(target)\n",
    "        output = model(data)\n",
    "        test_loss += F.nll_loss(output, target, size_average=False).data[0] # sum up batch loss\n",
    "        pred = output.data.max(1)[1] # get the index of the max log-probability\n",
    "        correct += pred.eq(target.data.view_as(pred)).cpu().sum()\n",
    "\n",
    "    test_loss /= len(test_loader.dataset)\n",
    "    print('\\nTest set: Average loss: {:.4f}, Accuracy: {}/{} ({:.0f}%)\\n'.format(\n",
    "        test_loss, correct, len(test_loader.dataset), 100. * correct / len(test_loader.dataset)))"
   ]
  },
  {
   "cell_type": "code",
   "execution_count": 7,
   "metadata": {},
   "outputs": [
    {
     "name": "stdout",
     "output_type": "stream",
     "text": [
      "Train Epoch: 5 [0/60000 (0%)]\tLoss: 0.323592\n",
      "Train Epoch: 5 [12800/60000 (21%)]\tLoss: 0.185648\n",
      "Train Epoch: 5 [25600/60000 (43%)]\tLoss: 0.223868\n",
      "Train Epoch: 5 [38400/60000 (64%)]\tLoss: 0.356802\n",
      "Train Epoch: 5 [51200/60000 (85%)]\tLoss: 0.420115\n",
      "Train Epoch: 10 [0/60000 (0%)]\tLoss: 0.110812\n",
      "Train Epoch: 10 [12800/60000 (21%)]\tLoss: 0.149399\n",
      "Train Epoch: 10 [25600/60000 (43%)]\tLoss: 0.148355\n",
      "Train Epoch: 10 [38400/60000 (64%)]\tLoss: 0.193203\n",
      "Train Epoch: 10 [51200/60000 (85%)]\tLoss: 0.112662\n",
      "Train Epoch: 15 [0/60000 (0%)]\tLoss: 0.074151\n",
      "Train Epoch: 15 [12800/60000 (21%)]\tLoss: 0.077076\n",
      "Train Epoch: 15 [25600/60000 (43%)]\tLoss: 0.102261\n",
      "Train Epoch: 15 [38400/60000 (64%)]\tLoss: 0.018784\n",
      "Train Epoch: 15 [51200/60000 (85%)]\tLoss: 0.228549\n",
      "Train Epoch: 20 [0/60000 (0%)]\tLoss: 0.171667\n",
      "Train Epoch: 20 [12800/60000 (21%)]\tLoss: 0.057220\n",
      "Train Epoch: 20 [25600/60000 (43%)]\tLoss: 0.043385\n",
      "Train Epoch: 20 [38400/60000 (64%)]\tLoss: 0.030104\n",
      "Train Epoch: 20 [51200/60000 (85%)]\tLoss: 0.076178\n",
      "Train Epoch: 25 [0/60000 (0%)]\tLoss: 0.191099\n",
      "Train Epoch: 25 [12800/60000 (21%)]\tLoss: 0.227663\n",
      "Train Epoch: 25 [25600/60000 (43%)]\tLoss: 0.176275\n",
      "Train Epoch: 25 [38400/60000 (64%)]\tLoss: 0.112615\n",
      "Train Epoch: 25 [51200/60000 (85%)]\tLoss: 0.102808\n",
      "Train Epoch: 30 [0/60000 (0%)]\tLoss: 0.074247\n",
      "Train Epoch: 30 [12800/60000 (21%)]\tLoss: 0.039808\n",
      "Train Epoch: 30 [25600/60000 (43%)]\tLoss: 0.169042\n",
      "Train Epoch: 30 [38400/60000 (64%)]\tLoss: 0.091818\n",
      "Train Epoch: 30 [51200/60000 (85%)]\tLoss: 0.065232\n",
      "Train Epoch: 35 [0/60000 (0%)]\tLoss: 0.496620\n",
      "Train Epoch: 35 [12800/60000 (21%)]\tLoss: 0.125451\n",
      "Train Epoch: 35 [25600/60000 (43%)]\tLoss: 0.198283\n",
      "Train Epoch: 35 [38400/60000 (64%)]\tLoss: 0.181798\n",
      "Train Epoch: 35 [51200/60000 (85%)]\tLoss: 0.049775\n",
      "Train Epoch: 40 [0/60000 (0%)]\tLoss: 0.046217\n",
      "Train Epoch: 40 [12800/60000 (21%)]\tLoss: 0.273475\n",
      "Train Epoch: 40 [25600/60000 (43%)]\tLoss: 0.066713\n",
      "Train Epoch: 40 [38400/60000 (64%)]\tLoss: 0.163061\n",
      "Train Epoch: 40 [51200/60000 (85%)]\tLoss: 0.185408\n",
      "Train Epoch: 45 [0/60000 (0%)]\tLoss: 0.095304\n",
      "Train Epoch: 45 [12800/60000 (21%)]\tLoss: 0.049429\n",
      "Train Epoch: 45 [25600/60000 (43%)]\tLoss: 0.192918\n",
      "Train Epoch: 45 [38400/60000 (64%)]\tLoss: 0.040477\n",
      "Train Epoch: 45 [51200/60000 (85%)]\tLoss: 0.088771\n",
      "Train Epoch: 50 [0/60000 (0%)]\tLoss: 0.062795\n",
      "Train Epoch: 50 [12800/60000 (21%)]\tLoss: 0.169387\n",
      "Train Epoch: 50 [25600/60000 (43%)]\tLoss: 0.273955\n",
      "Train Epoch: 50 [38400/60000 (64%)]\tLoss: 0.140255\n",
      "Train Epoch: 50 [51200/60000 (85%)]\tLoss: 0.081675\n",
      "\n",
      "Test set: Average loss: 0.0281, Accuracy: 9907/10000 (99%)\n",
      "\n"
     ]
    }
   ],
   "source": [
    "epoch_times = []\n",
    "start_time = time.time()\n",
    "\n",
    "for epoch in range(1, epochs + 1):\n",
    "    current_time = time.time()\n",
    "    train(epoch)\n",
    "    epoch_times.append(time.time() -current_time)\n",
    "\n",
    "current_time = time.time()\n",
    "test()\n",
    "test_time=time.time()-current_time"
   ]
  },
  {
   "cell_type": "markdown",
   "metadata": {},
   "source": [
    "## GPU Code"
   ]
  },
  {
   "cell_type": "code",
   "execution_count": 8,
   "metadata": {
    "collapsed": true
   },
   "outputs": [],
   "source": [
    "torch.cuda.manual_seed(seed)\n",
    "kwargs_cuda = {'num_workers': 0, 'pin_memory': True}\n",
    "\n",
    "train_loader_cuda = torch.utils.data.DataLoader(datasets.MNIST('../data', train=True, download=True, \n",
    "                                                          transform=transforms.Compose([transforms.ToTensor(), \n",
    "                                                                                        transforms.Normalize((0.1307,),\n",
    "                                                                                                             (0.3081,))])), \n",
    "                                           batch_size=train_batch_size, shuffle=True, **kwargs_cuda)\n",
    "test_loader_cuda = torch.utils.data.DataLoader(datasets.MNIST('../data', \n",
    "                                                         train=False, transform=transforms.Compose([transforms.ToTensor(),\n",
    "                                                                                                    transforms.Normalize((0.1307,), (0.3081,))])),\n",
    "                                          batch_size=test_batch_size, shuffle=True, **kwargs_cuda)"
   ]
  },
  {
   "cell_type": "markdown",
   "metadata": {},
   "source": [
    "### *Important!*\n",
    "Call to .cuda() could take several minutes depending on setup (newer Pascal Architecture). Update with below command to fix current binary:\n",
    "\n",
    "*conda install pytorch torchvision cuda80 -c soumith*\n",
    "\n",
    "Moving a model to a GPU via .cuda() must be done before constructing the optimizer."
   ]
  },
  {
   "cell_type": "code",
   "execution_count": 9,
   "metadata": {
    "collapsed": true
   },
   "outputs": [],
   "source": [
    "model_cuda = test_model.cuda()\n",
    "optimizer_cuda = optim.SGD(model_cuda.parameters(), lr=learning_rate, momentum=momentum)"
   ]
  },
  {
   "cell_type": "code",
   "execution_count": 10,
   "metadata": {
    "collapsed": true
   },
   "outputs": [],
   "source": [
    "def train_cuda(epoch):\n",
    "    model_cuda.train()\n",
    "    for batch_idx, (data, target) in enumerate(train_loader_cuda):\n",
    "        data, target = data.cuda(), target.cuda()\n",
    "        data, target = Variable(data), Variable(target)\n",
    "        optimizer_cuda.zero_grad()\n",
    "        output = model(data)\n",
    "        loss = F.nll_loss(output, target)\n",
    "        loss.backward()\n",
    "        optimizer_cuda.step()\n",
    "        if batch_idx % log_interval == 0 and epoch % 5 == 0:\n",
    "            print('Train Epoch: {} [{}/{} ({:.0f}%)]\\tLoss: {:.6f}'.format(\n",
    "                epoch, batch_idx * len(data), len(train_loader_cuda.dataset),\n",
    "                100. * batch_idx / len(train_loader_cuda), loss.data[0]))\n",
    "\n",
    "\n",
    "def test_cuda():\n",
    "    model_cuda.eval()\n",
    "    test_loss = 0\n",
    "    correct = 0\n",
    "    for data, target in test_loader_cuda:\n",
    "        data, target = data.cuda(), target.cuda()\n",
    "        data, target = Variable(data, volatile=True), Variable(target)\n",
    "        output = model_cuda(data)\n",
    "        test_loss += F.nll_loss(output, target, size_average=False).data[0] # sum up batch loss\n",
    "        pred = output.data.max(1)[1] # get the index of the max log-probability\n",
    "        correct += pred.eq(target.data.view_as(pred)).cpu().sum()\n",
    "\n",
    "    test_loss /= len(test_loader_cuda.dataset)\n",
    "    print('\\nTest set: Average loss: {:.4f}, Accuracy: {}/{} ({:.0f}%)\\n'.format(\n",
    "        test_loss, correct, len(test_loader_cuda.dataset),\n",
    "        100. * correct / len(test_loader_cuda.dataset)))"
   ]
  },
  {
   "cell_type": "code",
   "execution_count": 11,
   "metadata": {},
   "outputs": [
    {
     "name": "stdout",
     "output_type": "stream",
     "text": [
      "Train Epoch: 5 [0/60000 (0%)]\tLoss: 0.112951\n",
      "Train Epoch: 5 [12800/60000 (21%)]\tLoss: 0.115494\n",
      "Train Epoch: 5 [25600/60000 (43%)]\tLoss: 0.159213\n",
      "Train Epoch: 5 [38400/60000 (64%)]\tLoss: 0.215078\n",
      "Train Epoch: 5 [51200/60000 (85%)]\tLoss: 0.324018\n",
      "Train Epoch: 10 [0/60000 (0%)]\tLoss: 0.071389\n",
      "Train Epoch: 10 [12800/60000 (21%)]\tLoss: 0.060406\n",
      "Train Epoch: 10 [25600/60000 (43%)]\tLoss: 0.076174\n",
      "Train Epoch: 10 [38400/60000 (64%)]\tLoss: 0.202793\n",
      "Train Epoch: 10 [51200/60000 (85%)]\tLoss: 0.129243\n",
      "Train Epoch: 15 [0/60000 (0%)]\tLoss: 0.082932\n",
      "Train Epoch: 15 [12800/60000 (21%)]\tLoss: 0.046993\n",
      "Train Epoch: 15 [25600/60000 (43%)]\tLoss: 0.076732\n",
      "Train Epoch: 15 [38400/60000 (64%)]\tLoss: 0.109644\n",
      "Train Epoch: 15 [51200/60000 (85%)]\tLoss: 0.076831\n",
      "Train Epoch: 20 [0/60000 (0%)]\tLoss: 0.052845\n",
      "Train Epoch: 20 [12800/60000 (21%)]\tLoss: 0.048926\n",
      "Train Epoch: 20 [25600/60000 (43%)]\tLoss: 0.105494\n",
      "Train Epoch: 20 [38400/60000 (64%)]\tLoss: 0.083646\n",
      "Train Epoch: 20 [51200/60000 (85%)]\tLoss: 0.055619\n",
      "Train Epoch: 25 [0/60000 (0%)]\tLoss: 0.150667\n",
      "Train Epoch: 25 [12800/60000 (21%)]\tLoss: 0.108131\n",
      "Train Epoch: 25 [25600/60000 (43%)]\tLoss: 0.038810\n",
      "Train Epoch: 25 [38400/60000 (64%)]\tLoss: 0.043779\n",
      "Train Epoch: 25 [51200/60000 (85%)]\tLoss: 0.031034\n",
      "Train Epoch: 30 [0/60000 (0%)]\tLoss: 0.075573\n",
      "Train Epoch: 30 [12800/60000 (21%)]\tLoss: 0.049737\n",
      "Train Epoch: 30 [25600/60000 (43%)]\tLoss: 0.087610\n",
      "Train Epoch: 30 [38400/60000 (64%)]\tLoss: 0.078228\n",
      "Train Epoch: 30 [51200/60000 (85%)]\tLoss: 0.007483\n",
      "Train Epoch: 35 [0/60000 (0%)]\tLoss: 0.113177\n",
      "Train Epoch: 35 [12800/60000 (21%)]\tLoss: 0.093518\n",
      "Train Epoch: 35 [25600/60000 (43%)]\tLoss: 0.114508\n",
      "Train Epoch: 35 [38400/60000 (64%)]\tLoss: 0.055749\n",
      "Train Epoch: 35 [51200/60000 (85%)]\tLoss: 0.035101\n",
      "Train Epoch: 40 [0/60000 (0%)]\tLoss: 0.101688\n",
      "Train Epoch: 40 [12800/60000 (21%)]\tLoss: 0.062324\n",
      "Train Epoch: 40 [25600/60000 (43%)]\tLoss: 0.031311\n",
      "Train Epoch: 40 [38400/60000 (64%)]\tLoss: 0.041255\n",
      "Train Epoch: 40 [51200/60000 (85%)]\tLoss: 0.038991\n",
      "Train Epoch: 45 [0/60000 (0%)]\tLoss: 0.059148\n",
      "Train Epoch: 45 [12800/60000 (21%)]\tLoss: 0.160245\n",
      "Train Epoch: 45 [25600/60000 (43%)]\tLoss: 0.008526\n",
      "Train Epoch: 45 [38400/60000 (64%)]\tLoss: 0.052538\n",
      "Train Epoch: 45 [51200/60000 (85%)]\tLoss: 0.019828\n",
      "Train Epoch: 50 [0/60000 (0%)]\tLoss: 0.045642\n",
      "Train Epoch: 50 [12800/60000 (21%)]\tLoss: 0.147717\n",
      "Train Epoch: 50 [25600/60000 (43%)]\tLoss: 0.070950\n",
      "Train Epoch: 50 [38400/60000 (64%)]\tLoss: 0.029240\n",
      "Train Epoch: 50 [51200/60000 (85%)]\tLoss: 0.053685\n",
      "\n",
      "Test set: Average loss: 0.0293, Accuracy: 9910/10000 (99%)\n",
      "\n"
     ]
    }
   ],
   "source": [
    "epoch_times_cuda = []\n",
    "start_time = time.time()\n",
    "\n",
    "for epoch in range(1, epochs + 1):\n",
    "    current_time = time.time()\n",
    "    train_cuda(epoch)\n",
    "    epoch_times_cuda.append(time.time() - current_time)\n",
    "    \n",
    "current_time = time.time()\n",
    "test_cuda()\n",
    "test_time_cuda=time.time()- current_time"
   ]
  },
  {
   "cell_type": "markdown",
   "metadata": {},
   "source": [
    "<a id='the_destination'></a>\n",
    "## Conclusion\n",
    "Due to Neural Networks overtaking traditional computational models, they will be a driving force in most industries. By utilising GPUs, every implementation will benefit from improved execution time, reduced energy consumption, and lowered costs. This will also allow for more complex networks and lead to more accurate solutions.\n",
    "### Results\n",
    "Both executions achieved an accuracy score of 99% and a average loss less than 0.03. However, as seen in the graphs below, the GPU showed a significantly reduced execution time in all areas; training, testing, and overall time. By using a GPU in this simple example, we achieved a speed-up over five times faster than the CPU time. The GPU also had more consistent epoch times recorded, with a range of one compared to the eighteen of the CPU. With the extra time, a GPU implemented network could have trained over more iterations or with a larger data set. A completely different network could have also run after the GPU execution finished."
   ]
  },
  {
   "cell_type": "code",
   "execution_count": 12,
   "metadata": {},
   "outputs": [
    {
     "data": {
      "image/png": "[encoded data removed]",
      "text/plain": [
       "<matplotlib.figure.Figure at 0x7ff7bebe4048>"
      ]
     },
     "metadata": {},
     "output_type": "display_data"
    }
   ],
   "source": [
    "import matplotlib.pyplot as plt\n",
    "import numpy as np\n",
    "\n",
    "plt.title('Epoch Times')\n",
    "plt.plot(epoch_times, marker='o', color='b', label='CPU')\n",
    "plt.plot(epoch_times_cuda, marker='s', color='g', label='GPU')\n",
    "plt.ylabel('Time (s)')\n",
    "plt.xlabel('Epoch')\n",
    "plt.legend()\n",
    "plt.show()"
   ]
  },
  {
   "cell_type": "code",
   "execution_count": 13,
   "metadata": {},
   "outputs": [
    {
     "data": {
      "image/png": "[encoded data removed]",
      "text/plain": [
       "<matplotlib.figure.Figure at 0x7ff7b805ee80>"
      ]
     },
     "metadata": {},
     "output_type": "display_data"
    }
   ],
   "source": [
    "n_groups = 3\n",
    "means_cpu = (np.mean(epoch_times), test_time, np.sum(epoch_times)+test_time)\n",
    "means_gpu = (np.mean(epoch_times_cuda), test_time_cuda, np.sum(epoch_times_cuda)+test_time_cuda)\n",
    "fig, ax = plt.subplots()\n",
    "index = np.arange(n_groups)\n",
    "bar_width = 0.35\n",
    "opacity = 0.8\n",
    "rects1 = plt.bar(index, means_cpu, bar_width,\n",
    "                 alpha=opacity,\n",
    "                 color='b',\n",
    "                 label='CPU')\n",
    "rects2 = plt.bar(index + bar_width, means_gpu, bar_width,\n",
    "                 alpha=opacity,\n",
    "                 color='g',\n",
    "                 label='GPU')\n",
    "plt.title('Execution Time')\n",
    "plt.ylabel('Time (s)')\n",
    "plt.xticks(index + bar_width, ('Mean Epoc', 'Test Time', 'Total Time'))\n",
    "plt.legend()\n",
    "plt.tight_layout()\n",
    "plt.show()"
   ]
  },
  {
   "cell_type": "markdown",
   "metadata": {},
   "source": [
    "## References\n",
    "Campos, Víctor, et al. “Distributed Training Strategies for a Computer Vision Deep Learning Algorithm on a Distributed GPU Cluster.” Procedia Computer Science, vol. 108, 2017, pp. 315–324., doi:10.1016/j.procs.2017.05.074.\n",
    "\n",
    "Li Deng, J., et al. “Scalable Stacking and Learning for Building Deep Architectures.”Acoustics, Speech and Signal Processing (ICASSP), 2012 IEEE International Conference On, 2012, pp. 2133–2136.\n",
    "\n",
    "Zhang, Qingchen, et al. “A Survey on Deep Learning for Big Data.” Information Fusion, vol. 42, 2018, pp. 146–157., doi:10.1016/j.inffus.2017.10.006.\n",
    "\n",
    "Dettmers, Tim. How to Parallelize Deep Learning on GPUs Part 1/2: Data Parallelism. 10 Sept. 2014, timdettmers.com/2014/10/09/deep-learning-data-parallelism/.\n",
    "\n",
    "“Welcome to PyTorch Tutorials.” PyTorch Tutorials, Pytorch, pytorch.org/tutorials/index.html. \n",
    "\n",
    "“Training with Multiple GPUs Using Model Parallelism” MXNet How To, Apache Incubator, mxnet.incubator.apache.org/how_to/model_parallel_lstm.html. \n",
    "\n",
    "“Run MXNet on Multiple CPU/GPUs with Data Parallelism” MXNet How To, Apache Incubator, mxnet.incubator.apache.org/how_to/multi_devices.html.\n"
   ]
  },
  {
   "cell_type": "code",
   "execution_count": null,
   "metadata": {
    "collapsed": true
   },
   "outputs": [],
   "source": []
  }
 ],
 "metadata": {
  "kernelspec": {
   "display_name": "Python 3",
   "language": "python",
   "name": "python3"
  },
  "language_info": {
   "codemirror_mode": {
    "name": "ipython",
    "version": 3
   },
   "file_extension": ".py",
   "mimetype": "text/x-python",
   "name": "python",
   "nbconvert_exporter": "python",
   "pygments_lexer": "ipython3",
   "version": "3.6.4"
  }
 },
 "nbformat": 4,
 "nbformat_minor": 2
}
