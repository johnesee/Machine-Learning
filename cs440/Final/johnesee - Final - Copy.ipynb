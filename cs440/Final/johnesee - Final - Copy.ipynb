{
 "cells": [
  {
   "cell_type": "markdown",
   "metadata": {},
   "source": [
    "# Training Neural Networks using GPUs\n",
    "*by Michael Johnesee, December 2017*\n",
    "*johnesee@rams.colostate.edu*"
   ]
  },
  {
   "cell_type": "markdown",
   "metadata": {},
   "source": [
    "## Introduction\n",
    "The advantages of using a Graphical Processing Unit (GPU) for Neural Networks are power efficiency and improved speed. Speedup comes from the inherently parallelizable nature of Neural Networks and the superior floating point operations of GPUs. Multiplications within each layer can be computed independently. Data dependencies are only found between layers. Latency-insensitive inference tasks during the training run can be pipelined between layers.  Batch training also benefits from using GPUs as well. This notebook looks into the various techniques for GPU utilization and features a simple speed for comparison."
   ]
  },
  {
   "cell_type": "markdown",
   "metadata": {},
   "source": [
    "## Methods\n",
    "###     Research\n",
    "\n",
    "Individually, GPUs feature many advantages over CPUs for parallel tasks. They typically have more computational units and a higher bandwidth for memory retrieval. Their architecture is ideal for neural network computations. Since they were designed for image processing, they also can be exploited for further speed-up.\n",
    "\n",
    "In addtion, there are several techniques for parallelizing a neural network using multiple GPUs:\n",
    "* Data Parallelism - Each GPU receives a complete copy of the model and trains it on a fraction of the data.\n",
    "* Model Parallelism - Network Model is split by assigning a layer to each GPU, with no GPU needing to maintain all the parameters .  Layers are connected by output activation order.\n",
    "* Hyper-Parameter Parallelism - Multiple training runs of different neural network models.\n",
    "\n",
    "Combining these techniques is surprisingly simple, with 16 GPUs being utilized through splitting a model over 4 GPUs and performing data parallelism on 4 copies on that partition.  A different Neural Network model could then be run on another 16 GPUs.\n",
    "\n",
    "###     Implementation\n",
    "Since access to multiple GPUs is rare, the code below looks at the time improvement that a single GPU has over a CPU. The data below was gathered on 'Swordfish', located in the Computer Science Building of Colorado State University. \n",
    "\n",
    "PyTorch is a python package that provides two high-level features:\n",
    "* Tensor computation (like numpy) with strong GPU acceleration\n",
    "* Deep Neural Networks built on a tape-based autograd system\n",
    "\n",
    "The code is based on an example provided by PyTorch: \n",
    "\n",
    "https://github.com/pytorch/examples/blob/master/mnist/main.py\n",
    "\n",
    "to train on the popular MNIST database of handwritten digits:\n",
    "\n",
    "http://yann.lecun.com/exdb/mnist/\n",
    "\n",
    "PyTorch operates on Linux or Mac OS and has built-in CUDA support for nVidia GPUs. It is recommended to install using Anaconda Package Manager:\n",
    "\n",
    "*conda install pytorch torchvision -c pytorch*\n",
    "\n",
    "### [Jump to Conclusion](#the_destination)\n",
    "\n",
    "## CPU Code"
   ]
  },
  {
   "cell_type": "markdown",
   "metadata": {},
   "source": [
    "### Dependencies:\n",
    "torch: \n",
    "* Tensor library with strong GPU support\n",
    "\n",
    "torchvision: \n",
    "* image and video datasets and models for torch deep learning"
   ]
  },
  {
   "cell_type": "code",
   "execution_count": 3,
   "metadata": {},
   "outputs": [],
   "source": [
    "%matplotlib inline\n",
    "\n",
    "import torch\n",
    "import torch.nn as nn\n",
    "import torch.nn.functional as F\n",
    "import torch.optim as optim\n",
    "from torchvision import datasets, transforms\n",
    "from torch.autograd import Variable\n",
    "import time"
   ]
  },
  {
   "cell_type": "markdown",
   "metadata": {},
   "source": [
    "### Training Parameters:\n",
    "\n",
    "Batch Size: \n",
    "* the number of training examples in one forward/backward pass. The higher the batch size, the more memory space required.\n",
    "\n",
    "Epoch: \n",
    "* one forward pass and one backward pass of all the training examples\n",
    "\n",
    "Momentum: \n",
    "* make convergence faster with gradient descent vs a constant step"
   ]
  },
  {
   "cell_type": "code",
   "execution_count": 4,
   "metadata": {},
   "outputs": [],
   "source": [
    "# Training settings\n",
    "train_batch_size = 200\n",
    "test_batch_size = 800\n",
    "epochs = 25\n",
    "learning_rate = 0.01\n",
    "momentum = 0.5\n",
    "seed = 1\n",
    "log_interval = 200"
   ]
  },
  {
   "cell_type": "code",
   "execution_count": 5,
   "metadata": {},
   "outputs": [],
   "source": [
    "class Net(nn.Module):\n",
    "    def __init__(self):\n",
    "        super(Net, self).__init__()\n",
    "        self.conv1 = nn.Conv2d(1, 10, kernel_size=5)\n",
    "        self.conv2 = nn.Conv2d(10, 20, kernel_size=5)\n",
    "        self.conv2_drop = nn.Dropout2d()\n",
    "        self.fc1 = nn.Linear(320, 50)\n",
    "        self.fc2 = nn.Linear(50, 10)\n",
    "\n",
    "    def forward(self, x):\n",
    "        x = F.relu(F.max_pool2d(self.conv1(x), 2))\n",
    "        x = F.relu(F.max_pool2d(self.conv2_drop(self.conv2(x)), 2))\n",
    "        x = x.view(-1, 320)\n",
    "        x = F.relu(self.fc1(x))\n",
    "        x = F.dropout(x, training=self.training)\n",
    "        x = self.fc2(x)\n",
    "        return F.log_softmax(x)"
   ]
  },
  {
   "cell_type": "markdown",
   "metadata": {},
   "source": [
    "### PyTorch Function Choices\n",
    "Loss Function: Negative Log-Likelihood\n",
    "* L(y) = −log(y)\n",
    "* NLL is seful to train classification problems\n",
    "\n",
    "Weight Function: Stochastic Gradient Descent\n",
    "* weight = weight - learning_rate * gradient\n",
    "* SGD is used to minimize the high cost of running back propagation over the full training set.\n",
    "\n",
    "Both torch.optim and torch.nn.functional feature many other predefined functions to optimize their neural network code."
   ]
  },
  {
   "cell_type": "code",
   "execution_count": 6,
   "metadata": {},
   "outputs": [],
   "source": [
    "torch.manual_seed(seed)\n",
    "kwargs = {}\n",
    "\n",
    "train_loader = torch.utils.data.DataLoader(datasets.MNIST('../data', train=True, download=True, \n",
    "                                                          transform=transforms.Compose([transforms.ToTensor(), \n",
    "                                                                                        transforms.Normalize((0.1307,),\n",
    "                                                                                                             (0.3081,))])), \n",
    "                                           batch_size=train_batch_size, shuffle=True, **kwargs)\n",
    "\n",
    "test_loader = torch.utils.data.DataLoader(datasets.MNIST('../data', \n",
    "                                                         train=False, transform=transforms.Compose([transforms.ToTensor(),\n",
    "                                                                                                    transforms.Normalize((0.1307,), (0.3081,))])),\n",
    "                                          batch_size=test_batch_size, shuffle=True, **kwargs)\n",
    "test_model = Net()\n",
    "model = test_model\n",
    "optimizer = optim.SGD(model.parameters(), lr=learning_rate, momentum=momentum)"
   ]
  },
  {
   "cell_type": "markdown",
   "metadata": {},
   "source": [
    "### Method Outputs:\n",
    "* train: Periodically prints the loss value, which is an estimate of how far away the output is from the target.\n",
    "* test: Prints the average loss and how accurate the test data is to the training data."
   ]
  },
  {
   "cell_type": "code",
   "execution_count": 7,
   "metadata": {},
   "outputs": [],
   "source": [
    "def train(epoch):\n",
    "    model.train()\n",
    "    for batch_idx, (data, target) in enumerate(train_loader):\n",
    "        data, target = Variable(data), Variable(target)\n",
    "        optimizer.zero_grad()\n",
    "        output = model(data)\n",
    "        loss = F.nll_loss(output, target)\n",
    "        loss.backward()\n",
    "        optimizer.step()\n",
    "        if batch_idx % log_interval == 0 and epoch % 5 == 0:\n",
    "            print('Train Epoch: {} [{}/{} ({:.0f}%)]\\tLoss: {:.6f}'.format(\n",
    "                epoch, batch_idx * len(data), len(train_loader.dataset),\n",
    "                100. * batch_idx / len(train_loader), loss.data[0]))\n",
    "\n",
    "\n",
    "def test():\n",
    "    model.eval()\n",
    "    test_loss = 0\n",
    "    correct = 0\n",
    "    for data, target in test_loader:\n",
    "        data, target = Variable(data, volatile=True), Variable(target)\n",
    "        output = model(data)\n",
    "        test_loss += F.nll_loss(output, target, size_average=False).data[0] # sum up batch loss\n",
    "        pred = output.data.max(1)[1] # get the index of the max log-probability\n",
    "        correct += pred.eq(target.data.view_as(pred)).cpu().sum()\n",
    "\n",
    "    test_loss /= len(test_loader.dataset)\n",
    "    print('\\nTest set: Average loss: {:.4f}, Accuracy: {}/{} ({:.0f}%)\\n'.format(\n",
    "        test_loss, correct, len(test_loader.dataset), 100. * correct / len(test_loader.dataset)))"
   ]
  },
  {
   "cell_type": "code",
   "execution_count": 8,
   "metadata": {},
   "outputs": [
    {
     "name": "stderr",
     "output_type": "stream",
     "text": [
      "C:\\ProgramData\\Anaconda3\\lib\\site-packages\\ipykernel_launcher.py:17: UserWarning: Implicit dimension choice for log_softmax has been deprecated. Change the call to include dim=X as an argument.\n"
     ]
    },
    {
     "name": "stdout",
     "output_type": "stream",
     "text": [
      "Train Epoch: 5 [0/60000 (0%)]\tLoss: 0.538168\n",
      "Train Epoch: 5 [40000/60000 (67%)]\tLoss: 0.298785\n",
      "Train Epoch: 10 [0/60000 (0%)]\tLoss: 0.228158\n",
      "Train Epoch: 10 [40000/60000 (67%)]\tLoss: 0.210807\n",
      "Train Epoch: 15 [0/60000 (0%)]\tLoss: 0.170064\n",
      "Train Epoch: 15 [40000/60000 (67%)]\tLoss: 0.138609\n",
      "Train Epoch: 20 [0/60000 (0%)]\tLoss: 0.225224\n",
      "Train Epoch: 20 [40000/60000 (67%)]\tLoss: 0.326255\n",
      "Train Epoch: 25 [0/60000 (0%)]\tLoss: 0.173631\n",
      "Train Epoch: 25 [40000/60000 (67%)]\tLoss: 0.205869\n",
      "\n",
      "Test set: Average loss: 0.0539, Accuracy: 9826/10000 (98%)\n",
      "\n"
     ]
    }
   ],
   "source": [
    "epoch_times = []\n",
    "start_time = time.time()\n",
    "\n",
    "for epoch in range(1, epochs + 1):\n",
    "    current_time = time.time()\n",
    "    train(epoch)\n",
    "    epoch_times.append(time.time() -current_time)\n",
    "\n",
    "current_time = time.time()\n",
    "test()\n",
    "test_time=time.time()-current_time"
   ]
  },
  {
   "cell_type": "markdown",
   "metadata": {},
   "source": [
    "## GPU Code"
   ]
  },
  {
   "cell_type": "code",
   "execution_count": 9,
   "metadata": {},
   "outputs": [],
   "source": [
    "torch.cuda.manual_seed(seed)\n",
    "kwargs_cuda = {'num_workers': 0, 'pin_memory': True}\n",
    "\n",
    "train_loader_cuda = torch.utils.data.DataLoader(datasets.MNIST('../data', train=True, download=True, \n",
    "                                                          transform=transforms.Compose([transforms.ToTensor(), \n",
    "                                                                                        transforms.Normalize((0.1307,),\n",
    "                                                                                                             (0.3081,))])), \n",
    "                                           batch_size=train_batch_size, shuffle=True, **kwargs_cuda)\n",
    "test_loader_cuda = torch.utils.data.DataLoader(datasets.MNIST('../data', \n",
    "                                                         train=False, transform=transforms.Compose([transforms.ToTensor(),\n",
    "                                                                                                    transforms.Normalize((0.1307,), (0.3081,))])),\n",
    "                                          batch_size=test_batch_size, shuffle=True, **kwargs_cuda)"
   ]
  },
  {
   "cell_type": "markdown",
   "metadata": {},
   "source": [
    "### *Important!*\n",
    "Call to .cuda() could take several minutes depending on setup (newer Pascal Architecture). Update with below command to fix current binary:\n",
    "\n",
    "*conda install pytorch torchvision cuda80 -c soumith*\n",
    "\n",
    "Moving a model to a GPU via .cuda() must be done before constructing the optimizer."
   ]
  },
  {
   "cell_type": "code",
   "execution_count": 10,
   "metadata": {},
   "outputs": [
    {
     "name": "stderr",
     "output_type": "stream",
     "text": [
      "C:\\ProgramData\\Anaconda3\\lib\\site-packages\\torch\\cuda\\__init__.py:116: UserWarning: \n",
      "    Found GPU0 Quadro M500M which is of cuda capability 5.0.\n",
      "    PyTorch no longer supports this GPU because it is too old.\n",
      "    \n",
      "  warnings.warn(old_gpu_warn % (d, name, major, capability[1]))\n"
     ]
    }
   ],
   "source": [
    "model_cuda = test_model.cuda()\n",
    "optimizer_cuda = optim.SGD(model_cuda.parameters(), lr=learning_rate, momentum=momentum)"
   ]
  },
  {
   "cell_type": "code",
   "execution_count": 11,
   "metadata": {},
   "outputs": [],
   "source": [
    "def train_cuda(epoch):\n",
    "    model_cuda.train()\n",
    "    for batch_idx, (data, target) in enumerate(train_loader_cuda):\n",
    "        data, target = data.cuda(), target.cuda()\n",
    "        data, target = Variable(data), Variable(target)\n",
    "        optimizer_cuda.zero_grad()\n",
    "        output = model(data)\n",
    "        loss = F.nll_loss(output, target)\n",
    "        loss.backward()\n",
    "        optimizer_cuda.step()\n",
    "        if batch_idx % log_interval == 0 and epoch % 5 == 0:\n",
    "            print('Train Epoch: {} [{}/{} ({:.0f}%)]\\tLoss: {:.6f}'.format(\n",
    "                epoch, batch_idx * len(data), len(train_loader_cuda.dataset),\n",
    "                100. * batch_idx / len(train_loader_cuda), loss.data[0]))\n",
    "\n",
    "\n",
    "def test_cuda():\n",
    "    model_cuda.eval()\n",
    "    test_loss = 0\n",
    "    correct = 0\n",
    "    for data, target in test_loader_cuda:\n",
    "        data, target = data.cuda(), target.cuda()\n",
    "        data, target = Variable(data, volatile=True), Variable(target)\n",
    "        output = model_cuda(data)\n",
    "        test_loss += F.nll_loss(output, target, size_average=False).data[0] # sum up batch loss\n",
    "        pred = output.data.max(1)[1] # get the index of the max log-probability\n",
    "        correct += pred.eq(target.data.view_as(pred)).cpu().sum()\n",
    "\n",
    "    test_loss /= len(test_loader_cuda.dataset)\n",
    "    print('\\nTest set: Average loss: {:.4f}, Accuracy: {}/{} ({:.0f}%)\\n'.format(\n",
    "        test_loss, correct, len(test_loader_cuda.dataset),\n",
    "        100. * correct / len(test_loader_cuda.dataset)))"
   ]
  },
  {
   "cell_type": "code",
   "execution_count": 12,
   "metadata": {},
   "outputs": [
    {
     "ename": "RuntimeError",
     "evalue": "cuda runtime error (48) : no kernel image is available for execution on the device at c:\\anaconda2\\conda-bld\\pytorch_1519501749874\\work\\torch\\lib\\thcunn\\generic/SpatialDilatedMaxPooling.cu:152",
     "output_type": "error",
     "traceback": [
      "\u001b[1;31m---------------------------------------------------------------------------\u001b[0m",
      "\u001b[1;31mRuntimeError\u001b[0m                              Traceback (most recent call last)",
      "\u001b[1;32m<ipython-input-12-d45dfd6c1c58>\u001b[0m in \u001b[0;36m<module>\u001b[1;34m()\u001b[0m\n\u001b[0;32m      4\u001b[0m \u001b[1;32mfor\u001b[0m \u001b[0mepoch\u001b[0m \u001b[1;32min\u001b[0m \u001b[0mrange\u001b[0m\u001b[1;33m(\u001b[0m\u001b[1;36m1\u001b[0m\u001b[1;33m,\u001b[0m \u001b[0mepochs\u001b[0m \u001b[1;33m+\u001b[0m \u001b[1;36m1\u001b[0m\u001b[1;33m)\u001b[0m\u001b[1;33m:\u001b[0m\u001b[1;33m\u001b[0m\u001b[0m\n\u001b[0;32m      5\u001b[0m     \u001b[0mcurrent_time\u001b[0m \u001b[1;33m=\u001b[0m \u001b[0mtime\u001b[0m\u001b[1;33m.\u001b[0m\u001b[0mtime\u001b[0m\u001b[1;33m(\u001b[0m\u001b[1;33m)\u001b[0m\u001b[1;33m\u001b[0m\u001b[0m\n\u001b[1;32m----> 6\u001b[1;33m     \u001b[0mtrain_cuda\u001b[0m\u001b[1;33m(\u001b[0m\u001b[0mepoch\u001b[0m\u001b[1;33m)\u001b[0m\u001b[1;33m\u001b[0m\u001b[0m\n\u001b[0m\u001b[0;32m      7\u001b[0m     \u001b[0mepoch_times_cuda\u001b[0m\u001b[1;33m.\u001b[0m\u001b[0mappend\u001b[0m\u001b[1;33m(\u001b[0m\u001b[0mtime\u001b[0m\u001b[1;33m.\u001b[0m\u001b[0mtime\u001b[0m\u001b[1;33m(\u001b[0m\u001b[1;33m)\u001b[0m \u001b[1;33m-\u001b[0m \u001b[0mcurrent_time\u001b[0m\u001b[1;33m)\u001b[0m\u001b[1;33m\u001b[0m\u001b[0m\n\u001b[0;32m      8\u001b[0m \u001b[1;33m\u001b[0m\u001b[0m\n",
      "\u001b[1;32m<ipython-input-11-9de3c20fd677>\u001b[0m in \u001b[0;36mtrain_cuda\u001b[1;34m(epoch)\u001b[0m\n\u001b[0;32m      5\u001b[0m         \u001b[0mdata\u001b[0m\u001b[1;33m,\u001b[0m \u001b[0mtarget\u001b[0m \u001b[1;33m=\u001b[0m \u001b[0mVariable\u001b[0m\u001b[1;33m(\u001b[0m\u001b[0mdata\u001b[0m\u001b[1;33m)\u001b[0m\u001b[1;33m,\u001b[0m \u001b[0mVariable\u001b[0m\u001b[1;33m(\u001b[0m\u001b[0mtarget\u001b[0m\u001b[1;33m)\u001b[0m\u001b[1;33m\u001b[0m\u001b[0m\n\u001b[0;32m      6\u001b[0m         \u001b[0moptimizer_cuda\u001b[0m\u001b[1;33m.\u001b[0m\u001b[0mzero_grad\u001b[0m\u001b[1;33m(\u001b[0m\u001b[1;33m)\u001b[0m\u001b[1;33m\u001b[0m\u001b[0m\n\u001b[1;32m----> 7\u001b[1;33m         \u001b[0moutput\u001b[0m \u001b[1;33m=\u001b[0m \u001b[0mmodel\u001b[0m\u001b[1;33m(\u001b[0m\u001b[0mdata\u001b[0m\u001b[1;33m)\u001b[0m\u001b[1;33m\u001b[0m\u001b[0m\n\u001b[0m\u001b[0;32m      8\u001b[0m         \u001b[0mloss\u001b[0m \u001b[1;33m=\u001b[0m \u001b[0mF\u001b[0m\u001b[1;33m.\u001b[0m\u001b[0mnll_loss\u001b[0m\u001b[1;33m(\u001b[0m\u001b[0moutput\u001b[0m\u001b[1;33m,\u001b[0m \u001b[0mtarget\u001b[0m\u001b[1;33m)\u001b[0m\u001b[1;33m\u001b[0m\u001b[0m\n\u001b[0;32m      9\u001b[0m         \u001b[0mloss\u001b[0m\u001b[1;33m.\u001b[0m\u001b[0mbackward\u001b[0m\u001b[1;33m(\u001b[0m\u001b[1;33m)\u001b[0m\u001b[1;33m\u001b[0m\u001b[0m\n",
      "\u001b[1;32mC:\\ProgramData\\Anaconda3\\lib\\site-packages\\torch\\nn\\modules\\module.py\u001b[0m in \u001b[0;36m__call__\u001b[1;34m(self, *input, **kwargs)\u001b[0m\n\u001b[0;32m    355\u001b[0m             \u001b[0mresult\u001b[0m \u001b[1;33m=\u001b[0m \u001b[0mself\u001b[0m\u001b[1;33m.\u001b[0m\u001b[0m_slow_forward\u001b[0m\u001b[1;33m(\u001b[0m\u001b[1;33m*\u001b[0m\u001b[0minput\u001b[0m\u001b[1;33m,\u001b[0m \u001b[1;33m**\u001b[0m\u001b[0mkwargs\u001b[0m\u001b[1;33m)\u001b[0m\u001b[1;33m\u001b[0m\u001b[0m\n\u001b[0;32m    356\u001b[0m         \u001b[1;32melse\u001b[0m\u001b[1;33m:\u001b[0m\u001b[1;33m\u001b[0m\u001b[0m\n\u001b[1;32m--> 357\u001b[1;33m             \u001b[0mresult\u001b[0m \u001b[1;33m=\u001b[0m \u001b[0mself\u001b[0m\u001b[1;33m.\u001b[0m\u001b[0mforward\u001b[0m\u001b[1;33m(\u001b[0m\u001b[1;33m*\u001b[0m\u001b[0minput\u001b[0m\u001b[1;33m,\u001b[0m \u001b[1;33m**\u001b[0m\u001b[0mkwargs\u001b[0m\u001b[1;33m)\u001b[0m\u001b[1;33m\u001b[0m\u001b[0m\n\u001b[0m\u001b[0;32m    358\u001b[0m         \u001b[1;32mfor\u001b[0m \u001b[0mhook\u001b[0m \u001b[1;32min\u001b[0m \u001b[0mself\u001b[0m\u001b[1;33m.\u001b[0m\u001b[0m_forward_hooks\u001b[0m\u001b[1;33m.\u001b[0m\u001b[0mvalues\u001b[0m\u001b[1;33m(\u001b[0m\u001b[1;33m)\u001b[0m\u001b[1;33m:\u001b[0m\u001b[1;33m\u001b[0m\u001b[0m\n\u001b[0;32m    359\u001b[0m             \u001b[0mhook_result\u001b[0m \u001b[1;33m=\u001b[0m \u001b[0mhook\u001b[0m\u001b[1;33m(\u001b[0m\u001b[0mself\u001b[0m\u001b[1;33m,\u001b[0m \u001b[0minput\u001b[0m\u001b[1;33m,\u001b[0m \u001b[0mresult\u001b[0m\u001b[1;33m)\u001b[0m\u001b[1;33m\u001b[0m\u001b[0m\n",
      "\u001b[1;32m<ipython-input-5-6c2218f37724>\u001b[0m in \u001b[0;36mforward\u001b[1;34m(self, x)\u001b[0m\n\u001b[0;32m      9\u001b[0m \u001b[1;33m\u001b[0m\u001b[0m\n\u001b[0;32m     10\u001b[0m     \u001b[1;32mdef\u001b[0m \u001b[0mforward\u001b[0m\u001b[1;33m(\u001b[0m\u001b[0mself\u001b[0m\u001b[1;33m,\u001b[0m \u001b[0mx\u001b[0m\u001b[1;33m)\u001b[0m\u001b[1;33m:\u001b[0m\u001b[1;33m\u001b[0m\u001b[0m\n\u001b[1;32m---> 11\u001b[1;33m         \u001b[0mx\u001b[0m \u001b[1;33m=\u001b[0m \u001b[0mF\u001b[0m\u001b[1;33m.\u001b[0m\u001b[0mrelu\u001b[0m\u001b[1;33m(\u001b[0m\u001b[0mF\u001b[0m\u001b[1;33m.\u001b[0m\u001b[0mmax_pool2d\u001b[0m\u001b[1;33m(\u001b[0m\u001b[0mself\u001b[0m\u001b[1;33m.\u001b[0m\u001b[0mconv1\u001b[0m\u001b[1;33m(\u001b[0m\u001b[0mx\u001b[0m\u001b[1;33m)\u001b[0m\u001b[1;33m,\u001b[0m \u001b[1;36m2\u001b[0m\u001b[1;33m)\u001b[0m\u001b[1;33m)\u001b[0m\u001b[1;33m\u001b[0m\u001b[0m\n\u001b[0m\u001b[0;32m     12\u001b[0m         \u001b[0mx\u001b[0m \u001b[1;33m=\u001b[0m \u001b[0mF\u001b[0m\u001b[1;33m.\u001b[0m\u001b[0mrelu\u001b[0m\u001b[1;33m(\u001b[0m\u001b[0mF\u001b[0m\u001b[1;33m.\u001b[0m\u001b[0mmax_pool2d\u001b[0m\u001b[1;33m(\u001b[0m\u001b[0mself\u001b[0m\u001b[1;33m.\u001b[0m\u001b[0mconv2_drop\u001b[0m\u001b[1;33m(\u001b[0m\u001b[0mself\u001b[0m\u001b[1;33m.\u001b[0m\u001b[0mconv2\u001b[0m\u001b[1;33m(\u001b[0m\u001b[0mx\u001b[0m\u001b[1;33m)\u001b[0m\u001b[1;33m)\u001b[0m\u001b[1;33m,\u001b[0m \u001b[1;36m2\u001b[0m\u001b[1;33m)\u001b[0m\u001b[1;33m)\u001b[0m\u001b[1;33m\u001b[0m\u001b[0m\n\u001b[0;32m     13\u001b[0m         \u001b[0mx\u001b[0m \u001b[1;33m=\u001b[0m \u001b[0mx\u001b[0m\u001b[1;33m.\u001b[0m\u001b[0mview\u001b[0m\u001b[1;33m(\u001b[0m\u001b[1;33m-\u001b[0m\u001b[1;36m1\u001b[0m\u001b[1;33m,\u001b[0m \u001b[1;36m320\u001b[0m\u001b[1;33m)\u001b[0m\u001b[1;33m\u001b[0m\u001b[0m\n",
      "\u001b[1;32mC:\\ProgramData\\Anaconda3\\lib\\site-packages\\torch\\nn\\functional.py\u001b[0m in \u001b[0;36mmax_pool2d\u001b[1;34m(input, kernel_size, stride, padding, dilation, ceil_mode, return_indices)\u001b[0m\n\u001b[0;32m    332\u001b[0m     \u001b[0mSee\u001b[0m \u001b[1;33m:\u001b[0m\u001b[1;32mclass\u001b[0m\u001b[1;33m:\u001b[0m\u001b[0;31m`\u001b[0m\u001b[1;33m~\u001b[0m\u001b[0mtorch\u001b[0m\u001b[1;33m.\u001b[0m\u001b[0mnn\u001b[0m\u001b[1;33m.\u001b[0m\u001b[0mMaxPool2d\u001b[0m\u001b[0;31m`\u001b[0m \u001b[1;32mfor\u001b[0m \u001b[0mdetails\u001b[0m\u001b[1;33m.\u001b[0m\u001b[1;33m\u001b[0m\u001b[0m\n\u001b[0;32m    333\u001b[0m     \"\"\"\n\u001b[1;32m--> 334\u001b[1;33m     \u001b[0mret\u001b[0m \u001b[1;33m=\u001b[0m \u001b[0mtorch\u001b[0m\u001b[1;33m.\u001b[0m\u001b[0m_C\u001b[0m\u001b[1;33m.\u001b[0m\u001b[0m_nn\u001b[0m\u001b[1;33m.\u001b[0m\u001b[0mmax_pool2d\u001b[0m\u001b[1;33m(\u001b[0m\u001b[0minput\u001b[0m\u001b[1;33m,\u001b[0m \u001b[0mkernel_size\u001b[0m\u001b[1;33m,\u001b[0m \u001b[0mstride\u001b[0m\u001b[1;33m,\u001b[0m \u001b[0mpadding\u001b[0m\u001b[1;33m,\u001b[0m \u001b[0mdilation\u001b[0m\u001b[1;33m,\u001b[0m \u001b[0mceil_mode\u001b[0m\u001b[1;33m)\u001b[0m\u001b[1;33m\u001b[0m\u001b[0m\n\u001b[0m\u001b[0;32m    335\u001b[0m     \u001b[1;32mreturn\u001b[0m \u001b[0mret\u001b[0m \u001b[1;32mif\u001b[0m \u001b[0mreturn_indices\u001b[0m \u001b[1;32melse\u001b[0m \u001b[0mret\u001b[0m\u001b[1;33m[\u001b[0m\u001b[1;36m0\u001b[0m\u001b[1;33m]\u001b[0m\u001b[1;33m\u001b[0m\u001b[0m\n\u001b[0;32m    336\u001b[0m \u001b[1;33m\u001b[0m\u001b[0m\n",
      "\u001b[1;31mRuntimeError\u001b[0m: cuda runtime error (48) : no kernel image is available for execution on the device at c:\\anaconda2\\conda-bld\\pytorch_1519501749874\\work\\torch\\lib\\thcunn\\generic/SpatialDilatedMaxPooling.cu:152"
     ]
    }
   ],
   "source": [
    "epoch_times_cuda = []\n",
    "start_time = time.time()\n",
    "\n",
    "for epoch in range(1, epochs + 1):\n",
    "    current_time = time.time()\n",
    "    train_cuda(epoch)\n",
    "    epoch_times_cuda.append(time.time() - current_time)\n",
    "    \n",
    "current_time = time.time()\n",
    "test_cuda()\n",
    "test_time_cuda=time.time()- current_time"
   ]
  },
  {
   "cell_type": "markdown",
   "metadata": {},
   "source": [
    "<a id='the_destination'></a>\n",
    "## Conclusion\n",
    "Due to Neural Networks overtaking traditional computational models, they will be a driving force in most industries. By utilising GPUs, every implementation will benefit from improved execution time, reduced energy consumption, and lowered costs. This will also allow for more complex networks and lead to more accurate solutions.\n",
    "### Results\n",
    "Both executions achieved an accuracy score of 99% and a average loss less than 0.03. However, as seen in the graphs below, the GPU showed a significantly reduced execution time in all areas; training, testing, and overall time. By using a GPU in this simple example, we achieved a speed-up over five times faster than the CPU time. The GPU also had more consistent epoch times recorded, with a range of one compared to the eighteen of the CPU. With the extra time, a GPU implemented network could have trained over more iterations or with a larger data set. A completely different network could have also run after the GPU execution finished."
   ]
  },
  {
   "cell_type": "code",
   "execution_count": null,
   "metadata": {},
   "outputs": [],
   "source": [
    "import matplotlib.pyplot as plt\n",
    "import numpy as np\n",
    "\n",
    "plt.title('Epoch Times')\n",
    "plt.plot(epoch_times, marker='o', color='b', label='CPU')\n",
    "plt.plot(epoch_times_cuda, marker='s', color='g', label='GPU')\n",
    "plt.ylabel('Time (s)')\n",
    "plt.xlabel('Epoch')\n",
    "plt.legend()\n",
    "plt.show()"
   ]
  },
  {
   "cell_type": "code",
   "execution_count": null,
   "metadata": {},
   "outputs": [],
   "source": [
    "n_groups = 3\n",
    "means_cpu = (np.mean(epoch_times), test_time, np.sum(epoch_times)+test_time)\n",
    "means_gpu = (np.mean(epoch_times_cuda), test_time_cuda, np.sum(epoch_times_cuda)+test_time_cuda)\n",
    "fig, ax = plt.subplots()\n",
    "index = np.arange(n_groups)\n",
    "bar_width = 0.35\n",
    "opacity = 0.8\n",
    "rects1 = plt.bar(index, means_cpu, bar_width,\n",
    "                 alpha=opacity,\n",
    "                 color='b',\n",
    "                 label='CPU')\n",
    "rects2 = plt.bar(index + bar_width, means_gpu, bar_width,\n",
    "                 alpha=opacity,\n",
    "                 color='g',\n",
    "                 label='GPU')\n",
    "plt.title('Execution Time')\n",
    "plt.ylabel('Time (s)')\n",
    "plt.xticks(index + bar_width, ('Mean Epoc', 'Test Time', 'Total Time'))\n",
    "plt.legend()\n",
    "plt.tight_layout()\n",
    "plt.show()"
   ]
  },
  {
   "cell_type": "markdown",
   "metadata": {},
   "source": [
    "## References\n",
    "Campos, Víctor, et al. “Distributed Training Strategies for a Computer Vision Deep Learning Algorithm on a Distributed GPU Cluster.” Procedia Computer Science, vol. 108, 2017, pp. 315–324., doi:10.1016/j.procs.2017.05.074.\n",
    "\n",
    "Li Deng, J., et al. “Scalable Stacking and Learning for Building Deep Architectures.”Acoustics, Speech and Signal Processing (ICASSP), 2012 IEEE International Conference On, 2012, pp. 2133–2136.\n",
    "\n",
    "Zhang, Qingchen, et al. “A Survey on Deep Learning for Big Data.” Information Fusion, vol. 42, 2018, pp. 146–157., doi:10.1016/j.inffus.2017.10.006.\n",
    "\n",
    "Dettmers, Tim. How to Parallelize Deep Learning on GPUs Part 1/2: Data Parallelism. 10 Sept. 2014, timdettmers.com/2014/10/09/deep-learning-data-parallelism/.\n",
    "\n",
    "“Welcome to PyTorch Tutorials.” PyTorch Tutorials, Pytorch, pytorch.org/tutorials/index.html. \n",
    "\n",
    "“Training with Multiple GPUs Using Model Parallelism” MXNet How To, Apache Incubator, mxnet.incubator.apache.org/how_to/model_parallel_lstm.html. \n",
    "\n",
    "“Run MXNet on Multiple CPU/GPUs with Data Parallelism” MXNet How To, Apache Incubator, mxnet.incubator.apache.org/how_to/multi_devices.html.\n"
   ]
  },
  {
   "cell_type": "code",
   "execution_count": null,
   "metadata": {},
   "outputs": [],
   "source": []
  }
 ],
 "metadata": {
  "kernelspec": {
   "display_name": "Python 3",
   "language": "python",
   "name": "python3"
  },
  "language_info": {
   "codemirror_mode": {
    "name": "ipython",
    "version": 3
   },
   "file_extension": ".py",
   "mimetype": "text/x-python",
   "name": "python",
   "nbconvert_exporter": "python",
   "pygments_lexer": "ipython3",
   "version": "3.6.4"
  }
 },
 "nbformat": 4,
 "nbformat_minor": 2
}
